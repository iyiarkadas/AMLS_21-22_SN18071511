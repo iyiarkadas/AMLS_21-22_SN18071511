{
 "cells": [
  {
   "cell_type": "markdown",
   "id": "3bd19d19",
   "metadata": {},
   "source": [
    "## Importing the libraries"
   ]
  },
  {
   "cell_type": "code",
   "execution_count": 64,
   "id": "d86840cc",
   "metadata": {},
   "outputs": [],
   "source": [
    "import numpy as np\n",
    "from sklearn.svm import SVC\n",
    "from sklearn.model_selection import train_test_split\n",
    "from sklearn.utils import shuffle\n",
    "from sklearn.metrics import classification_report, accuracy_score, confusion_matrix, ConfusionMatrixDisplay\n",
    "import pandas as pd\n",
    "\n",
    "import matplotlib.pyplot as plt\n",
    "import matplotlib.image as mpimg\n",
    "import data_acquisition as da"
   ]
  },
  {
   "cell_type": "markdown",
   "id": "3ec05248",
   "metadata": {},
   "source": [
    "## Getting the training and testing data"
   ]
  },
  {
   "cell_type": "code",
   "execution_count": 65,
   "id": "954e3a55",
   "metadata": {},
   "outputs": [],
   "source": [
    "# Importing the data through the data_acquisition file\n",
    "x, y = da.labels_binary()\n",
    "# Converting the 3 dimensional features to one dimension\n",
    "for i in range(x.shape[0]):\n",
    "    x[i] = np.reshape(x[i], (512*512))"
   ]
  },
  {
   "cell_type": "code",
   "execution_count": 66,
   "id": "4edcae2b",
   "metadata": {},
   "outputs": [],
   "source": [
    "# Splitting the data onto a test and a train set\n",
    "xtrain, xtest, ytrain, ytest = train_test_split(x, y, train_size=0.85, random_state=15) "
   ]
  },
  {
   "cell_type": "markdown",
   "id": "b3c25ce9",
   "metadata": {},
   "source": [
    "## Implementing SVM algorithm from the scikit library"
   ]
  },
  {
   "cell_type": "code",
   "execution_count": 67,
   "id": "6175f776",
   "metadata": {},
   "outputs": [
    {
     "data": {
      "text/plain": [
       "SVC(kernel='linear')"
      ]
     },
     "execution_count": 67,
     "metadata": {},
     "output_type": "execute_result"
    }
   ],
   "source": [
    "# Creating an SVM algorithm using scikit learn\n",
    "svc_classifier = svm.SVC(kernel = 'linear')\n",
    "# Alterntively ssince we are doing linear SVC, LinearSVC() function could also have been used\n",
    "svc_classifier.fit(xtrain, ytrain)"
   ]
  },
  {
   "cell_type": "code",
   "execution_count": 68,
   "id": "c0fd87c9",
   "metadata": {},
   "outputs": [],
   "source": [
    "# Predicting the outputs using SVM\n",
    "y_pred = svc_classifier.predict(xtest)"
   ]
  },
  {
   "cell_type": "markdown",
   "id": "5f3e817f",
   "metadata": {},
   "source": [
    "## Getting accuracy results"
   ]
  },
  {
   "cell_type": "code",
   "execution_count": 69,
   "id": "a8c0c3d0",
   "metadata": {},
   "outputs": [
    {
     "name": "stdout",
     "output_type": "stream",
     "text": [
      "0.9444444444444444\n"
     ]
    }
   ],
   "source": [
    "print(accuracy_score(ytest, pred))"
   ]
  },
  {
   "cell_type": "code",
   "execution_count": 70,
   "id": "0562ba51",
   "metadata": {},
   "outputs": [
    {
     "name": "stdout",
     "output_type": "stream",
     "text": [
      "              precision    recall  f1-score   support\n",
      "\n",
      "    no tumor       0.80      0.82      0.81        65\n",
      "       tumor       0.97      0.97      0.97       385\n",
      "\n",
      "    accuracy                           0.94       450\n",
      "   macro avg       0.89      0.89      0.89       450\n",
      "weighted avg       0.94      0.94      0.94       450\n",
      "\n"
     ]
    }
   ],
   "source": [
    "print(classification_report(ytest, y_pred, target_names=['no tumor', 'tumor']))"
   ]
  },
  {
   "cell_type": "code",
   "execution_count": 71,
   "id": "0c67e5e0",
   "metadata": {},
   "outputs": [],
   "source": [
    "conf_mat = confusion_matrix(ytest, y_pred, labels=svc_classifier.classes_)"
   ]
  },
  {
   "cell_type": "code",
   "execution_count": 72,
   "id": "2496626b",
   "metadata": {},
   "outputs": [
    {
     "data": {
      "text/plain": [
       "<sklearn.metrics._plot.confusion_matrix.ConfusionMatrixDisplay at 0x14b821ec948>"
      ]
     },
     "execution_count": 72,
     "metadata": {},
     "output_type": "execute_result"
    },
    {
     "data": {
      "image/png": "[encoded data removed]",
      "text/plain": [
       "<Figure size 432x288 with 2 Axes>"
      ]
     },
     "metadata": {
      "needs_background": "light"
     },
     "output_type": "display_data"
    }
   ],
   "source": [
    "cm_disp = ConfusionMatrixDisplay(confusion_matrix=conf_mat, display_labels=svc_classifier.classes_)\n",
    "cm_disp.plot()"
   ]
  }
 ],
 "metadata": {
  "kernelspec": {
   "display_name": "Python 3",
   "language": "python",
   "name": "python3"
  },
  "language_info": {
   "codemirror_mode": {
    "name": "ipython",
    "version": 3
   },
   "file_extension": ".py",
   "mimetype": "text/x-python",
   "name": "python",
   "nbconvert_exporter": "python",
   "pygments_lexer": "ipython3",
   "version": "3.7.9"
  }
 },
 "nbformat": 4,
 "nbformat_minor": 5
}
