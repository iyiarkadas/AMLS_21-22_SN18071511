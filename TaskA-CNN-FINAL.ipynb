{
 "cells": [
  {
   "cell_type": "markdown",
   "id": "4ba23856",
   "metadata": {},
   "source": [
    "## Importing the libraries"
   ]
  },
  {
   "cell_type": "code",
   "execution_count": 33,
   "id": "08eca0e6",
   "metadata": {},
   "outputs": [],
   "source": [
    "import numpy as np\n",
    "from sklearn.svm import SVC\n",
    "from sklearn.model_selection import train_test_split\n",
    "from sklearn.utils import shuffle\n",
    "from sklearn.metrics import classification_report, accuracy_score, confusion_matrix, ConfusionMatrixDisplay\n",
    "import pandas as pd\n",
    "import time\n",
    "\n",
    "import matplotlib.pyplot as plt\n",
    "import matplotlib.image as mpimg\n",
    "import data_acquisition as da\n",
    "import tensorflow as tf\n",
    "from tensorflow import keras\n",
    "import keras\n",
    "from keras.layers import *\n",
    "from keras.models import *\n",
    "from keras.preprocessing import image"
   ]
  },
  {
   "cell_type": "markdown",
   "id": "b127e25c",
   "metadata": {},
   "source": [
    "## Getting the training and testing data"
   ]
  },
  {
   "cell_type": "code",
   "execution_count": 34,
   "id": "0de8fdec",
   "metadata": {},
   "outputs": [],
   "source": [
    "# Importing the data through the data_acquisition file\n",
    "xdat, ydat = da.labels_binary('./dataset')\n",
    "# Normalizing the data\n",
    "x = np.array(xdat)\n",
    "y = np.array(ydat)\n",
    "x /= 255\n",
    "# Converting the 3 dimensional features to one dimension\n",
    "for i in range(x.shape[0]):\n",
    "    x[i] = np.reshape(x[i], (512, 512, 1))"
   ]
  },
  {
   "cell_type": "code",
   "execution_count": 35,
   "id": "12611a0c",
   "metadata": {},
   "outputs": [],
   "source": [
    "# Splitting the data onto a test and a train set\n",
    "xtrain, xval, ytrain, yval = train_test_split(x, y, train_size=0.85, random_state=15) "
   ]
  },
  {
   "cell_type": "code",
   "execution_count": 36,
   "id": "502c5562",
   "metadata": {},
   "outputs": [
    {
     "data": {
      "text/plain": [
       "(2550, 512, 512, 1)"
      ]
     },
     "execution_count": 36,
     "metadata": {},
     "output_type": "execute_result"
    }
   ],
   "source": [
    "xtrain.shape"
   ]
  },
  {
   "cell_type": "markdown",
   "id": "fd54d0bc",
   "metadata": {},
   "source": [
    "## Implementing CNN algorithm from the keras library"
   ]
  },
  {
   "cell_type": "code",
   "execution_count": 37,
   "id": "2f53457b",
   "metadata": {},
   "outputs": [],
   "source": [
    "# Creating the CNN Model with 3 convolutional layers and pooling layers in between\n",
    "cnn_model = Sequential()\n",
    "cnn_model.add(Conv2D(32, kernel_size=(3,3), activation='relu', input_shape=(512,512,1)))\n",
    "cnn_model.add(Conv2D(64, (3,3), activation='relu'))\n",
    "cnn_model.add(MaxPooling2D(pool_size=(2,2)))\n",
    "cnn_model.add(Dropout(0.25))\n",
    "\n",
    "cnn_model.add(Conv2D(64, (3,3), activation='relu'))\n",
    "cnn_model.add(MaxPooling2D(pool_size=(2,2)))\n",
    "cnn_model.add(Dropout(0.25))\n",
    "\n",
    "cnn_model.add(Conv2D(128, (3,3), activation='relu'))\n",
    "cnn_model.add(MaxPooling2D(pool_size=(2,2)))\n",
    "cnn_model.add(Dropout(0.25))\n",
    "\n",
    "cnn_model.add(Flatten())\n",
    "cnn_model.add(Dense(64, activation='relu'))\n",
    "cnn_model.add(Dropout(0.25))\n",
    "cnn_model.add(Dense(1, activation='sigmoid'))\n",
    "\n",
    "cnn_model.compile(loss=keras.losses.binary_crossentropy, optimizer='adam', metrics=['accuracy'])"
   ]
  },
  {
   "cell_type": "code",
   "execution_count": 38,
   "id": "154ceb64",
   "metadata": {},
   "outputs": [
    {
     "name": "stdout",
     "output_type": "stream",
     "text": [
      "Model: \"sequential_2\"\n",
      "_________________________________________________________________\n",
      "Layer (type)                 Output Shape              Param #   \n",
      "=================================================================\n",
      "conv2d_5 (Conv2D)            (None, 510, 510, 32)      320       \n",
      "_________________________________________________________________\n",
      "conv2d_6 (Conv2D)            (None, 508, 508, 64)      18496     \n",
      "_________________________________________________________________\n",
      "max_pooling2d_4 (MaxPooling2 (None, 254, 254, 64)      0         \n",
      "_________________________________________________________________\n",
      "dropout_5 (Dropout)          (None, 254, 254, 64)      0         \n",
      "_________________________________________________________________\n",
      "conv2d_7 (Conv2D)            (None, 252, 252, 64)      36928     \n",
      "_________________________________________________________________\n",
      "max_pooling2d_5 (MaxPooling2 (None, 126, 126, 64)      0         \n",
      "_________________________________________________________________\n",
      "dropout_6 (Dropout)          (None, 126, 126, 64)      0         \n",
      "_________________________________________________________________\n",
      "conv2d_8 (Conv2D)            (None, 124, 124, 128)     73856     \n",
      "_________________________________________________________________\n",
      "max_pooling2d_6 (MaxPooling2 (None, 62, 62, 128)       0         \n",
      "_________________________________________________________________\n",
      "dropout_7 (Dropout)          (None, 62, 62, 128)       0         \n",
      "_________________________________________________________________\n",
      "flatten_2 (Flatten)          (None, 492032)            0         \n",
      "_________________________________________________________________\n",
      "dense_3 (Dense)              (None, 64)                31490112  \n",
      "_________________________________________________________________\n",
      "dropout_8 (Dropout)          (None, 64)                0         \n",
      "_________________________________________________________________\n",
      "dense_4 (Dense)              (None, 1)                 65        \n",
      "=================================================================\n",
      "Total params: 31,619,777\n",
      "Trainable params: 31,619,777\n",
      "Non-trainable params: 0\n",
      "_________________________________________________________________\n"
     ]
    }
   ],
   "source": [
    "# Getting the summary of the created CNN model\n",
    "cnn_model.summary()"
   ]
  },
  {
   "cell_type": "code",
   "execution_count": 39,
   "id": "61a58033",
   "metadata": {
    "scrolled": true
   },
   "outputs": [
    {
     "name": "stdout",
     "output_type": "stream",
     "text": [
      "Train on 2550 samples, validate on 450 samples\n",
      "Epoch 1/10\n",
      "2550/2550 [==============================] - 57s 22ms/step - loss: 0.4663 - accuracy: 0.8443 - val_loss: 0.2765 - val_accuracy: 0.8956\n",
      "Epoch 2/10\n",
      "2550/2550 [==============================] - 55s 22ms/step - loss: 0.2686 - accuracy: 0.8749 - val_loss: 0.1956 - val_accuracy: 0.9111\n",
      "Epoch 3/10\n",
      "2550/2550 [==============================] - 55s 22ms/step - loss: 0.2192 - accuracy: 0.9059 - val_loss: 0.2451 - val_accuracy: 0.8956\n",
      "Epoch 4/10\n",
      "2550/2550 [==============================] - 55s 21ms/step - loss: 0.1679 - accuracy: 0.9271 - val_loss: 0.1465 - val_accuracy: 0.9444\n",
      "Epoch 5/10\n",
      "2550/2550 [==============================] - 57s 23ms/step - loss: 0.1200 - accuracy: 0.9498 - val_loss: 0.1425 - val_accuracy: 0.9444\n",
      "Epoch 6/10\n",
      "2550/2550 [==============================] - 54s 21ms/step - loss: 0.0863 - accuracy: 0.9675 - val_loss: 0.1731 - val_accuracy: 0.9467\n",
      "Epoch 7/10\n",
      "2550/2550 [==============================] - 53s 21ms/step - loss: 0.0733 - accuracy: 0.9647 - val_loss: 0.1951 - val_accuracy: 0.9533\n",
      "Epoch 8/10\n",
      "2550/2550 [==============================] - 53s 21ms/step - loss: 0.0739 - accuracy: 0.9718 - val_loss: 0.1367 - val_accuracy: 0.9667\n",
      "Epoch 9/10\n",
      "2550/2550 [==============================] - 53s 21ms/step - loss: 0.0494 - accuracy: 0.9839 - val_loss: 0.1641 - val_accuracy: 0.9467\n",
      "Epoch 10/10\n",
      "2550/2550 [==============================] - 53s 21ms/step - loss: 0.0435 - accuracy: 0.9863 - val_loss: 0.1264 - val_accuracy: 0.9622\n",
      "Training time is: 548.9080910682678 seconds\n"
     ]
    }
   ],
   "source": [
    "# Predicting the outputs using CNN\n",
    "start_time = time.time()\n",
    "final_model = cnn_model.fit(xtrain, ytrain, batch_size=10, epochs=10, validation_data=(xval, yval))\n",
    "classifier1_time = time.time() - start_time\n",
    "print(\"Training time is: %s seconds\" % (classifier1_time))"
   ]
  },
  {
   "cell_type": "code",
   "execution_count": 40,
   "id": "b61d9fe5",
   "metadata": {},
   "outputs": [],
   "source": [
    "y_pred_train1 = cnn_model.predict_classes(xtrain)\n",
    "y_pred_val1 = cnn_model.predict_classes(xval)"
   ]
  },
  {
   "cell_type": "markdown",
   "id": "3b4599a7",
   "metadata": {},
   "source": [
    "## Getting accuracy results"
   ]
  },
  {
   "cell_type": "code",
   "execution_count": 41,
   "id": "0ab9a1b9",
   "metadata": {},
   "outputs": [
    {
     "name": "stdout",
     "output_type": "stream",
     "text": [
      "The accuracy of the train set: \n",
      "0.9929411764705882\n",
      "The accuracy of the validation set: \n",
      "0.9622222222222222\n",
      "The classification report: \n",
      "              precision    recall  f1-score   support\n",
      "\n",
      "    no tumor       0.96      0.77      0.85        65\n",
      "       tumor       0.96      0.99      0.98       385\n",
      "\n",
      "    accuracy                           0.96       450\n",
      "   macro avg       0.96      0.88      0.92       450\n",
      "weighted avg       0.96      0.96      0.96       450\n",
      "\n",
      "The confusion matrix: \n"
     ]
    },
    {
     "data": {
      "text/plain": [
       "<sklearn.metrics._plot.confusion_matrix.ConfusionMatrixDisplay at 0x17b62686f88>"
      ]
     },
     "execution_count": 41,
     "metadata": {},
     "output_type": "execute_result"
    },
    {
     "data": {
      "image/png": "[encoded data removed]",
      "text/plain": [
       "<Figure size 432x288 with 2 Axes>"
      ]
     },
     "metadata": {
      "needs_background": "light"
     },
     "output_type": "display_data"
    }
   ],
   "source": [
    "#print(accuracy_score(ytest, final_model))\n",
    "#y_val_pred = cnn_model.predict_classes(xval)\n",
    "#print(accuracy_score(yval, y_val_pred))\n",
    "print('The accuracy of the train set: ')\n",
    "print(accuracy_score(ytrain, y_pred_train1))\n",
    "print('The accuracy of the validation set: ')\n",
    "print(accuracy_score(yval, y_pred_val1))\n",
    "\n",
    "print('The classification report: ')\n",
    "print(classification_report(yval, y_pred_val1, target_names=['no tumor', 'tumor']))\n",
    "\n",
    "print('The confusion matrix: ')\n",
    "conf_mat1 = confusion_matrix(yval, y_pred_val1, labels=[0, 1])\n",
    "cm_disp1 = ConfusionMatrixDisplay(confusion_matrix=conf_mat1, display_labels=['no tumor', 'tumor'])\n",
    "cm_disp1.plot()"
   ]
  },
  {
   "cell_type": "code",
   "execution_count": 44,
   "id": "abe2ff34",
   "metadata": {},
   "outputs": [
    {
     "data": {
      "image/png": "[encoded data removed]",
      "text/plain": [
       "<Figure size 432x288 with 1 Axes>"
      ]
     },
     "metadata": {
      "needs_background": "light"
     },
     "output_type": "display_data"
    },
    {
     "data": {
      "image/png": "[encoded data removed]",
      "text/plain": [
       "<Figure size 432x288 with 1 Axes>"
      ]
     },
     "metadata": {
      "needs_background": "light"
     },
     "output_type": "display_data"
    }
   ],
   "source": [
    "plt.plot(final_model.history['accuracy'], 'o-', color=\"r\", label = 'Training error')\n",
    "plt.plot(final_model.history['val_accuracy'], 'o-', color=\"g\", label = 'Validation error')\n",
    "plt.ylabel('Accuracy', fontsize = 14)\n",
    "plt.xlabel('Number of Epoch', fontsize = 14)\n",
    "plt.ylim((0,1))\n",
    "plt.title('Learning curves for the CNN model')\n",
    "plt.legend(['Training', 'Validation'], loc='lower left')\n",
    "plt.show()\n",
    "\n",
    "plt.plot(final_model.history['loss'], 'o-', color=\"r\", label = 'Training')\n",
    "plt.plot(final_model.history['val_loss'], 'o-', color=\"g\", label = 'Validation')\n",
    "plt.ylabel('Loss', fontsize = 14)\n",
    "plt.xlabel('Number of Epoch', fontsize = 14)\n",
    "plt.legend(['Training', 'Validation'], loc='lower left')\n",
    "plt.title('Loss curves for the CNN model')\n",
    "plt.show()"
   ]
  },
  {
   "cell_type": "markdown",
   "id": "ce7eca0a",
   "metadata": {},
   "source": [
    "# Testing the Model with the Test Data"
   ]
  },
  {
   "cell_type": "code",
   "execution_count": 45,
   "id": "77beb4eb",
   "metadata": {},
   "outputs": [],
   "source": [
    "# Importing the data through the data_acquisition file\n",
    "x2dat, y2dat = da.labels_binary('./test')\n",
    "x2 = np.array(x2dat)\n",
    "y2 = np.array(y2dat)\n",
    "# Normalizing the data\n",
    "x2 /= 255\n",
    "# Converting the 3 dimensional features to one dimension\n",
    "for i in range(x2.shape[0]):\n",
    "    x2[i] = np.reshape(x2[i], (512, 512, 1))"
   ]
  },
  {
   "cell_type": "code",
   "execution_count": 46,
   "id": "45fa4a7b",
   "metadata": {},
   "outputs": [],
   "source": [
    "y2_test_pred = cnn_model.predict_classes(x2)"
   ]
  },
  {
   "cell_type": "code",
   "execution_count": 47,
   "id": "3d3c6a22",
   "metadata": {},
   "outputs": [
    {
     "name": "stdout",
     "output_type": "stream",
     "text": [
      "The accuracy of the test set: \n",
      "0.97\n",
      "The classification report: \n",
      "              precision    recall  f1-score   support\n",
      "\n",
      "    no tumor       0.97      0.86      0.91        37\n",
      "       tumor       0.97      0.99      0.98       163\n",
      "\n",
      "    accuracy                           0.97       200\n",
      "   macro avg       0.97      0.93      0.95       200\n",
      "weighted avg       0.97      0.97      0.97       200\n",
      "\n",
      "The confusion matrix: \n"
     ]
    },
    {
     "data": {
      "text/plain": [
       "<sklearn.metrics._plot.confusion_matrix.ConfusionMatrixDisplay at 0x17b62730f88>"
      ]
     },
     "execution_count": 47,
     "metadata": {},
     "output_type": "execute_result"
    },
    {
     "data": {
      "image/png": "[encoded data removed]",
      "text/plain": [
       "<Figure size 432x288 with 2 Axes>"
      ]
     },
     "metadata": {
      "needs_background": "light"
     },
     "output_type": "display_data"
    }
   ],
   "source": [
    "print('The accuracy of the test set: ')\n",
    "print(accuracy_score(y2, y2_test_pred))\n",
    "\n",
    "print('The classification report: ')\n",
    "print(classification_report(y2, y2_test_pred, target_names=['no tumor', 'tumor']))\n",
    "\n",
    "print('The confusion matrix: ')\n",
    "conf_mat1 = confusion_matrix(y2, y2_test_pred, labels=[0, 1])\n",
    "cm_disp1 = ConfusionMatrixDisplay(confusion_matrix=conf_mat1, display_labels=['no tumor', 'tumor'])\n",
    "cm_disp1.plot()"
   ]
  }
 ],
 "metadata": {
  "kernelspec": {
   "display_name": "Python 3 (ipykernel)",
   "language": "python",
   "name": "python3"
  },
  "language_info": {
   "codemirror_mode": {
    "name": "ipython",
    "version": 3
   },
   "file_extension": ".py",
   "mimetype": "text/x-python",
   "name": "python",
   "nbconvert_exporter": "python",
   "pygments_lexer": "ipython3",
   "version": "3.7.11"
  }
 },
 "nbformat": 4,
 "nbformat_minor": 5
}
