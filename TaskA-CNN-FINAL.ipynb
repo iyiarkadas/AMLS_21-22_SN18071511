{
 "cells": [
  {
   "cell_type": "markdown",
   "id": "e3946269",
   "metadata": {},
   "source": [
    "# TASK A: Building a Binary Classifier by Implementing CNN"
   ]
  },
  {
   "cell_type": "markdown",
   "id": "4ba23856",
   "metadata": {},
   "source": [
    "## Importing the necessary libraries for the task"
   ]
  },
  {
   "cell_type": "code",
   "execution_count": 1,
   "id": "08eca0e6",
   "metadata": {},
   "outputs": [
    {
     "name": "stderr",
     "output_type": "stream",
     "text": [
      "Using TensorFlow backend.\n"
     ]
    }
   ],
   "source": [
    "import numpy as np\n",
    "from sklearn.svm import SVC\n",
    "from sklearn.model_selection import train_test_split\n",
    "from sklearn.metrics import classification_report, accuracy_score, confusion_matrix, ConfusionMatrixDisplay\n",
    "import time\n",
    "\n",
    "import matplotlib.pyplot as plt\n",
    "import data_acquisition as da\n",
    "#import tensorflow as tf\n",
    "#from tensorflow import keras\n",
    "import keras\n",
    "from keras.layers import *\n",
    "from keras.models import *"
   ]
  },
  {
   "cell_type": "markdown",
   "id": "b127e25c",
   "metadata": {},
   "source": [
    "## Getting the Training and Validation Data"
   ]
  },
  {
   "cell_type": "code",
   "execution_count": 2,
   "id": "0de8fdec",
   "metadata": {},
   "outputs": [],
   "source": [
    "# Importing the data through the data_acquisition file\n",
    "xdat, ydat = da.labels_binary('./dataset')\n",
    "x = np.array(xdat)\n",
    "y = np.array(ydat)\n",
    "\n",
    "# Normalizing the features\n",
    "x /= 255\n",
    "\n",
    "# Converting the 3 dimensional features to one dimension\n",
    "for i in range(x.shape[0]):\n",
    "    x[i] = np.reshape(x[i], (512, 512, 1))"
   ]
  },
  {
   "cell_type": "code",
   "execution_count": 3,
   "id": "12611a0c",
   "metadata": {},
   "outputs": [],
   "source": [
    "# Splitting the dataset into training and validation set (85% training and 15% validation set)\n",
    "xtrain, xval, ytrain, yval = train_test_split(x, y, train_size=0.85, random_state=15) "
   ]
  },
  {
   "cell_type": "code",
   "execution_count": 4,
   "id": "502c5562",
   "metadata": {},
   "outputs": [
    {
     "data": {
      "text/plain": [
       "(2550, 512, 512, 1)"
      ]
     },
     "execution_count": 4,
     "metadata": {},
     "output_type": "execute_result"
    }
   ],
   "source": [
    "xtrain.shape"
   ]
  },
  {
   "cell_type": "markdown",
   "id": "fd54d0bc",
   "metadata": {},
   "source": [
    "## Implementing CNN Algorithm from the Keras Library"
   ]
  },
  {
   "cell_type": "code",
   "execution_count": 5,
   "id": "2f53457b",
   "metadata": {},
   "outputs": [],
   "source": [
    "# Creating the CNN Model\n",
    "cnn_model = Sequential()\n",
    "cnn_model.add(Conv2D(32, kernel_size=(3,3), activation='relu', input_shape=(512,512,1)))\n",
    "cnn_model.add(Conv2D(64, (3,3), activation='relu'))\n",
    "cnn_model.add(MaxPooling2D(pool_size=(2,2)))\n",
    "cnn_model.add(Dropout(0.25))\n",
    "\n",
    "cnn_model.add(Conv2D(64, (3,3), activation='relu'))\n",
    "cnn_model.add(MaxPooling2D(pool_size=(2,2)))\n",
    "cnn_model.add(Dropout(0.25))\n",
    "\n",
    "cnn_model.add(Conv2D(128, (3,3), activation='relu'))\n",
    "cnn_model.add(MaxPooling2D(pool_size=(2,2)))\n",
    "cnn_model.add(Dropout(0.25))\n",
    "\n",
    "cnn_model.add(Flatten())\n",
    "cnn_model.add(Dense(64, activation='relu'))\n",
    "cnn_model.add(Dropout(0.25))\n",
    "cnn_model.add(Dense(1, activation='sigmoid'))\n",
    "\n",
    "# Compiling the model by specifying the loss function as binary cross entropy  and the optimizer is set as Adam, and metrics  is accuracy\n",
    "cnn_model.compile(loss=keras.losses.binary_crossentropy, optimizer='adam', metrics=['accuracy'])"
   ]
  },
  {
   "cell_type": "code",
   "execution_count": 6,
   "id": "154ceb64",
   "metadata": {
    "scrolled": false
   },
   "outputs": [
    {
     "name": "stdout",
     "output_type": "stream",
     "text": [
      "Model: \"sequential_1\"\n",
      "_________________________________________________________________\n",
      "Layer (type)                 Output Shape              Param #   \n",
      "=================================================================\n",
      "conv2d_1 (Conv2D)            (None, 510, 510, 32)      320       \n",
      "_________________________________________________________________\n",
      "conv2d_2 (Conv2D)            (None, 508, 508, 64)      18496     \n",
      "_________________________________________________________________\n",
      "max_pooling2d_1 (MaxPooling2 (None, 254, 254, 64)      0         \n",
      "_________________________________________________________________\n",
      "dropout_1 (Dropout)          (None, 254, 254, 64)      0         \n",
      "_________________________________________________________________\n",
      "conv2d_3 (Conv2D)            (None, 252, 252, 64)      36928     \n",
      "_________________________________________________________________\n",
      "max_pooling2d_2 (MaxPooling2 (None, 126, 126, 64)      0         \n",
      "_________________________________________________________________\n",
      "dropout_2 (Dropout)          (None, 126, 126, 64)      0         \n",
      "_________________________________________________________________\n",
      "conv2d_4 (Conv2D)            (None, 124, 124, 128)     73856     \n",
      "_________________________________________________________________\n",
      "max_pooling2d_3 (MaxPooling2 (None, 62, 62, 128)       0         \n",
      "_________________________________________________________________\n",
      "dropout_3 (Dropout)          (None, 62, 62, 128)       0         \n",
      "_________________________________________________________________\n",
      "flatten_1 (Flatten)          (None, 492032)            0         \n",
      "_________________________________________________________________\n",
      "dense_1 (Dense)              (None, 64)                31490112  \n",
      "_________________________________________________________________\n",
      "dropout_4 (Dropout)          (None, 64)                0         \n",
      "_________________________________________________________________\n",
      "dense_2 (Dense)              (None, 1)                 65        \n",
      "=================================================================\n",
      "Total params: 31,619,777\n",
      "Trainable params: 31,619,777\n",
      "Non-trainable params: 0\n",
      "_________________________________________________________________\n"
     ]
    }
   ],
   "source": [
    "# Getting the summary of the created CNN model\n",
    "cnn_model.summary()"
   ]
  },
  {
   "cell_type": "code",
   "execution_count": 7,
   "id": "61a58033",
   "metadata": {
    "scrolled": true
   },
   "outputs": [
    {
     "name": "stdout",
     "output_type": "stream",
     "text": [
      "Train on 2550 samples, validate on 450 samples\n",
      "Epoch 1/10\n",
      "2550/2550 [==============================] - 59s 23ms/step - loss: 0.4730 - accuracy: 0.8463 - val_loss: 0.3251 - val_accuracy: 0.85560.6521 - accuracy:  - ETA: 41s - loss: 0.6315 - ac - ETA: 36s - loss: 0.6114 - accuracy:  - ETA: 34s - loss: 0 - ETA: 26s - loss: 0.5805 - accuracy: 0.8 - ETA: 25s - loss: 0.5779 - accu - ETA: 22s - loss: 0.5625 - accuracy: 0.837 - ETA: 22s - loss: 0.5610 - accuracy: 0 - ETA: 20s - loss: 0.5546 - accuracy: 0.8 - ETA: 20s - loss: 0.5501 - accura - ETA: 17s - loss: 0.5391 - accuracy: 0.837 - ETA: 17s - loss: 0.5400 - accuracy: 0.835 - ETA: 17s - loss: 0.5385 - accuracy: 0. - ETA: 16s - loss: 0.5331 - accuracy: 0.83 - ETA: 15s - loss: 0. - ETA: 10s - loss: 0.5072 - accur - ETA: 8s - loss: 0.5010 -  - ETA: 6s - loss: 0.4906 - accura - ETA: 5s - loss: 0.4847 - accu - ETA: 4s - loss: 0.482 - ETA: 1s - loss: 0.4795 - accuracy: 0. - ETA: 1s - loss: 0.4769 - ac\n",
      "Epoch 2/10\n",
      "2550/2550 [==============================] - 51s 20ms/step - loss: 0.2721 - accuracy: 0.8584 - val_loss: 0.2398 - val_accuracy: 0.8822s - loss: 0.2873 - accuracy: 0. - ETA: 41s - loss: 0.2949 - accuracy: 0. - ETA: 41s - loss: 0.2916 - accuracy: 0 - ETA: 40s - loss: 0.2820 - accuracy: 0.8 - ETA: 39 - ETA: 33s - loss: 0.2423 - accuracy - ETA: 32s - loss: 0.2506 - accuracy: 0.873 - ETA: 31s - loss: 0.2531 - accuracy:  - ETA: 30s - loss: 0.2519 - accuracy: 0.8 - ETA: 29s - loss: 0.2512 - accuracy:  - ETA: 28s - loss: 0.2655 - accurac - ETA: 26s - loss - ETA: 21s - loss: 0.2551 - accuracy: - ETA: 20s - loss: 0.2557 - accuracy: 0. - ETA: 19s - loss: 0.2546 - accura - ETA: 17s - loss: 0.2596 - a - ETA: 15s - loss: 0.2625 - accuracy: 0.8 - ETA: 14s - loss: 0.2608 -  - ETA: 11s - loss: 0.2631 - accuracy: 0.861 - ETA: 11s - loss: 0.2651 - accuracy: 0. - ETA: 10s - loss: 0.2649 - accurac - ETA: 9s - loss: 0.2710 - ac - ETA: 7s - loss: 0.2 - ETA: 5s - loss: 0.2755 -  - ETA: 4s - loss: 0.2755 - accuracy: 0. - ETA: 3s - ETA: 0s - loss: 0.2736 - accuracy: \n",
      "Epoch 3/10\n",
      "2550/2550 [==============================] - 52s 20ms/step - loss: 0.2124 - accuracy: 0.8988 - val_loss: 0.2064 - val_accuracy: 0.915647s - lo - ETA: 41s - loss: 0.2297 - accuracy: 0.890 - ETA: 40s - loss: 0.2280 - accuracy: 0.892 - ETA: 40s - loss: 0.2314 - accuracy: - ETA: 39s - loss: 0.2297 - accuracy: 0.8 - ETA: 38s - loss: 0.2264 - accuracy - - ETA: 28s - loss: 0.2198 - accuracy: 0 - ETA: 27s - loss: 0.2282 - accuracy: 0.889 - ETA: 27s - loss: 0.2278 - accuracy: 0.889 - ETA: 27s - loss: 0.2276 - accuracy: 0.888 - ETA: 26s - loss: 0.2294 - accuracy: 0.88 - ETA: 26s - loss: 0.2278 - accura - ETA: 24s - loss: 0.2222 - accuracy: - ETA: 22s - loss: 0.2178 - a - ETA: 19s - loss: 0.2190 - accuracy:  - ETA: 18s - loss: 0.2178 - accuracy: 0 - ETA: 17s - loss: 0.2201 - - ETA: 14s - loss: 0.2166 - accuracy: 0.8 - ETA: 13s - loss: 0.2196 - a - ETA: 10s - loss: 0.2180 - acc - ETA: 0s - loss: 0.2131 - accuracy: 0.\n",
      "Epoch 4/10\n",
      "2550/2550 [==============================] - 52s 20ms/step - loss: 0.1731 - accuracy: 0.9176 - val_loss: 0.1793 - val_accuracy: 0.937846s - loss: 0.0899 - accuracy - ETA: 44s - loss: 0.1645 - accuracy:  - ETA: 43s - loss: 0.1540 - accuracy: 0.926 - ETA: 42s - loss: 0.1504 - accuracy:  - ETA: 41s - loss: 0.1783 - accuracy: 0.9 - ETA: 41s - loss: 0.1819 - accura - ETA: 40s - loss: 0.1834 - accurac - - ETA: 32s - loss: 0.1726 - accuracy: 0.920 - ETA: 31s - loss: 0.1717 - accuracy: 0.92 - ETA: 31s - loss: 0.1701 - accuracy: 0.921 - ETA: 31s - loss: 0.1699 - accuracy: 0.921 - ETA: 30s - loss: 0.1699 - accuracy: 0.921 - ETA: 30s - loss: 0.1690 - accuracy: 0.922 - ETA: 30s - loss: 0.1701 - accuracy: 0.9 - ETA: 29s - loss: 0.1723 - accuracy: 0.918 - ETA: 29s - - ETA: 22s - loss: 0.1680 - accuracy: 0.9 - ETA: 22s - loss: 0.1755  - ETA: 18s - loss: 0.1770 - accuracy: 0.916 - ETA: 18s - loss: 0.1773 - accuracy: 0.91 - ETA: 17s - loss: 0.1762 - accuracy: 0 - ETA: 16s - loss: 0.1779 - accuracy - ETA: 15s - loss: 0.1783 - accuracy - ETA: 13s - loss: 0.1797 - accuracy: 0 - ETA: 12s - loss: 0.179 - ETA: 9s - loss: 0.1782 - accuracy:  - ETA: 8s - loss: 0.1783 - accura - ETA: 7s - loss: 0.1 - ETA: 5s - loss: 0.1748 - accuracy:  - ETA: 4s - loss: 0.1743 - accuracy: 0.91 - ETA: 4s - loss: 0.1736 - accu - ETA: 3s - loss: 0.1764 - accu - ETA: 2s - loss: 0.1756 - accuracy: 0.91 - ETA: 2s - loss: 0.1753 - accuracy - ETA: 1s - loss: 0.1750 - ac\n",
      "Epoch 5/10\n",
      "2550/2550 [==============================] - 53s 21ms/step - loss: 0.1337 - accuracy: 0.9384 - val_loss: 0.1742 - val_accuracy: 0.9267 34s - loss: 0.1323 - accur - ETA: 31s - loss: 0.1420 - accuracy - ETA: 30s - loss: 0.1444 - accuracy: 0.9 - ETA: 29s - loss: 0.1465 - accuracy: 0. - ETA: 28s - loss: 0.1449 - accuracy: 0 - ETA: 27s - loss: 0.1422 - accuracy: 0.9 - ETA: 27s - loss: 0.1462 - - ETA: 23s - loss: 0.1366 - accuracy: 0.936 - ETA: 23s - loss: 0.1363 - accuracy: - ETA: 22s - loss: 0.1368 - accuracy: 0. - ETA: 21s - loss: 0.1391 - accuracy: 0.9 - ETA: 20s - loss: 0.1397 - accuracy - ETA: 19s - loss: 0.1406 - accu - ETA: 16s - loss: 0.1384 - accu - ETA: 14s - loss: 0.139 - ETA: 5s - loss: 0.1354 - accuracy: 0. - ETA: 5s - loss: - ETA: 2s - loss:\n",
      "Epoch 6/10\n",
      "2550/2550 [==============================] - 50s 19ms/step - loss: 0.1065 - accuracy: 0.9553 - val_loss: 0.1987 - val_accuracy: 0.9533: 44s - loss: 0.0842 - accuracy: 0 - ETA: 44s - loss: 0.0753 - accuracy: 0. - ETA: 44s - loss: 0.0746 - accur - ETA: 42s - loss: 0.0777 - accuracy: 0.96 - ETA: 41s - loss: 0.0737 - accuracy: 0.962 - ETA: 41s - loss: 0.0725 - accuracy:  - ETA: 40s - loss: 0.0699  - ETA: 36s - loss: 0.1103 - accuracy: 0 - ETA: 35s - loss: 0.1107 - accuracy:  - ETA: 34s - loss: 0.1053 - accuracy: 0.956 - ETA: 34s - loss: 0.1041 - accuracy: 0.95 - ETA: 34s - loss: 0.1099 - accuracy: 0. - ETA: 33s - loss: 0.1148 - accuracy: 0.952 - ETA: 33s - loss: 0.1143 - accuracy: - ETA: 31s - loss: 0.1125 - accuracy: 0.95 - ETA: 31s - loss: 0.1107 - accu - ETA: 29s - loss: 0.1052 - ETA: 25s - loss: 0.1098 - - ETA: 22s - loss: 0.1120 - accuracy - ETA: 20s - loss: 0.1117 - accuracy: 0.95 - ETA: 20s - loss: 0.113 - ETA: 16s - loss: 0.1186 - accuracy:  - ETA: 15s - loss: 0.1173 - accuracy: 0.95 - ETA: 15s - loss: 0.1187 - accuracy: - ETA: 13s - loss: 0.1168 - accuracy: 0.950 - ETA: 13s - loss: 0.1164 -  - ETA: 10s - loss: 0.1149 - accuracy: 0.95 - ETA: - ETA: 6s - loss: 0.1132 - accuracy: 0. - ETA: 6s - loss: 0.1126 - accu - ETA: 5s - loss: 0.1109 - ac - ETA: 3s - loss: 0.1098 - accuracy:  - ETA: 3s\n",
      "Epoch 7/10\n",
      "2550/2550 [==============================] - 52s 21ms/step - loss: 0.0868 - accuracy: 0.9675 - val_loss: 0.1460 - val_accuracy: 0.9556s - loss: 0.0698 - accuracy:  - ETA: 44s - loss: 0.0736 - accuracy: 0.9 - ETA: 43s - loss: 0.0774 - accuracy:  - ETA: 42s - loss: 0.0756  - ETA: 39s - loss: 0.0676 - accuracy:  - ETA: 37s - loss: 0.0893 - accura - ETA: 35s - loss: 0.0803 - accuracy: - ETA: 34s - loss: 0.0824 - accur - ETA: 32s - loss: 0.0819 - accuracy: 0.963 - ETA: 32s - loss: 0.0 - ETA: 27s - loss - ETA: 23s - loss: 0.0828 - accuracy: 0 - ETA: 22s - loss: 0.0821 - accuracy: 0.964 - ETA: 21s - loss: 0.0816 - accuracy - ETA: 20s - loss: 0.0830 - ac - ETA: 17s - loss: 0.0828 - accuracy: 0. - ETA: 16s - loss: 0. - ETA: 12s - l - ETA: 3s - loss: 0.0888 -  - ETA: 2s - loss: 0.088 - ETA: 0s - loss: 0.0875 - accuracy: 0.\n",
      "Epoch 8/10\n",
      "2550/2550 [==============================] - 50s 20ms/step - loss: 0.0667 - accuracy: 0.9718 - val_loss: 0.1677 - val_accuracy: 0.960017 - accurac - ETA: 36s - loss: 0.0767 - accuracy: 0.9 - ETA: 35s - loss: 0.0778 - accura - ETA: 33s - loss: 0.0729 - accuracy - ETA: 32s - loss: 0.0743 - accuracy: 0.970 - ETA: 32s - loss: 0.0735 - a - ETA: 29s - loss: 0.0680 - accuracy: 0.97 - ETA: 28s - loss: 0.0713  - ETA: 25s - loss: 0.0661 - accuracy: 0. - ETA: 24s - loss: 0.0672 - ac - ETA: 21s - loss: 0.0696 - accuracy: 0. - ETA: 21s - loss: 0.0691 - accuracy: 0 - ETA: 20s - loss: 0.0722 - accuracy: 0 - ETA: 19s - loss: 0.0718 - accuracy - ETA: 17s - loss: 0.0751 - accuracy: 0. - ETA: 16s - loss: 0.0746 - accuracy: 0.96 - ETA: 16s - loss: 0.0741 - accuracy: 0.9 - ETA - ETA - ETA: 5s - loss: 0.0678 - accuracy: 0.97 - ETA: 5s - loss: 0.0676 - accuracy - ETA: 4s - loss: 0.0664 - accuracy: \n",
      "Epoch 9/10\n",
      "2550/2550 [==============================] - 52s 20ms/step - loss: 0.0552 - accuracy: 0.9745 - val_loss: 0.1636 - val_accuracy: 0.9533oss: 0.0830 - accuracy: 0.952 - ETA: 45s - loss: 0.0823 - acc - ETA: 42s - loss: 0. - ETA: 37s - loss: - ETA: 32s - loss: 0.0511 - accu - ETA: 30s - loss: 0.0457 - accuracy:  - ETA: 29 - ETA: 14s - loss: 0.0431 - accur - ETA: 11s - loss: 0.0484 - accura - ETA: 10s - loss: 0.0492 - accuracy: 0.9 - ETA: 9s - loss: 0.0494 - accuracy - ETA: 8s - loss: 0.0494 - accuracy: 0.97 - ETA: 8s - ETA: 1s - loss: 0.0562 - accu\n",
      "Epoch 10/10\n",
      "2550/2550 [==============================] - 50s 19ms/step - loss: 0.0767 - accuracy: 0.9710 - val_loss: 0.1632 - val_accuracy: 0.9622- l - ETA: 38s - loss: 0.0411  - ETA: 35s - loss: 0.0533 - accuracy: 0.97 - ETA: 35s - loss: 0.0528 - accur - ETA: 33s - loss: 0.0581 - accuracy: 0 - ETA: 32s - loss: 0.05 - ETA: 28s - loss: 0.0537 - accuracy: 0.97 - ETA: 28s - loss: 0.0530 - accuracy: 0 - ETA: 27s - loss: 0.0588 - accuracy:  - ETA: 26s - loss: 0.0660 - accurac - ETA: 24s - loss: 0.0843 - accur - ETA: 22s - loss: 0.0848 - accuracy: 0.969 - ETA: 22s - loss: 0.0851 - accuracy: 0.9 - ETA: 21s - loss: 0.0852 - ac - ETA: 19s - loss: 0.0835 - accuracy: 0.96 - ETA: 18s - loss: 0.0830 - accuracy: 0 - ETA: 17s - loss: 0.0812 - accuracy: 0. - ETA: 17s - loss: 0.0796 - accuracy: 0.97 - ETA: 16s - loss: 0.0796 - accurac - ETA: 15s - loss: 0.0789  - ETA: 11s - loss: 0.0750 - accuracy: 0.97 - ETA: 11s - loss: 0.0743 - accuracy: - ETA: 10s - loss: 0.0732 - - ETA: 8s - loss: 0.0714 - accuracy: 0.97 - ETA: 8s - loss: 0.0711 - accuracy: 0.97 - ETA: 8s - loss: 0.072 - ETA: 6s - loss: 0.0 - ETA: 4s - loss: 0.0764 - accuracy: 0.97 - ETA: 3s - loss: 0.0760  - ETA: 2s - loss: 0.0758 - accuracy: 0. - ETA: 1s - loss: 0.0768 - accu - ETA: 0s - loss: 0.0773 - accuracy: 0.97 - ETA: 0s - loss: 0.0772 - accuracy: 0. - ETA: 0s - loss: 0.0769 - accuracy: 0.97\n",
      "Training time is: 521.8797540664673 seconds\n"
     ]
    }
   ],
   "source": [
    "# Predicting the outputs using CNN while also finding the runtime\n",
    "start_time = time.time()\n",
    "final_model = cnn_model.fit(xtrain, ytrain, batch_size=10, epochs=10, validation_data=(xval, yval))\n",
    "classifier1_time = time.time() - start_time\n",
    "print(\"Training time is: %s seconds\" % (classifier1_time))"
   ]
  },
  {
   "cell_type": "code",
   "execution_count": 8,
   "id": "b61d9fe5",
   "metadata": {},
   "outputs": [],
   "source": [
    "# Predicting the outputs for the training and validation set using our fitted model\n",
    "y_pred_train1 = cnn_model.predict_classes(xtrain)\n",
    "y_pred_val1 = cnn_model.predict_classes(xval)"
   ]
  },
  {
   "cell_type": "markdown",
   "id": "3b4599a7",
   "metadata": {},
   "source": [
    "## Evaluating the Model Using the Validation Set"
   ]
  },
  {
   "cell_type": "code",
   "execution_count": 9,
   "id": "0ab9a1b9",
   "metadata": {},
   "outputs": [
    {
     "name": "stdout",
     "output_type": "stream",
     "text": [
      "The accuracy of the train set: \n",
      "0.9905882352941177\n",
      "The accuracy of the validation set: \n",
      "0.9622222222222222\n",
      "The classification report: \n",
      "              precision    recall  f1-score   support\n",
      "\n",
      "    no tumor       0.93      0.80      0.86        65\n",
      "       tumor       0.97      0.99      0.98       385\n",
      "\n",
      "    accuracy                           0.96       450\n",
      "   macro avg       0.95      0.89      0.92       450\n",
      "weighted avg       0.96      0.96      0.96       450\n",
      "\n",
      "The confusion matrix: \n"
     ]
    },
    {
     "data": {
      "text/plain": [
       "<sklearn.metrics._plot.confusion_matrix.ConfusionMatrixDisplay at 0x2b02beac488>"
      ]
     },
     "execution_count": 9,
     "metadata": {},
     "output_type": "execute_result"
    },
    {
     "data": {
      "image/png": "[encoded data removed]",
      "text/plain": [
       "<Figure size 432x288 with 2 Axes>"
      ]
     },
     "metadata": {
      "needs_background": "light"
     },
     "output_type": "display_data"
    }
   ],
   "source": [
    "# Producing an accuracy score\n",
    "print('The accuracy of the train set: ')\n",
    "print(accuracy_score(ytrain, y_pred_train1))\n",
    "print('The accuracy of the validation set: ')\n",
    "print(accuracy_score(yval, y_pred_val1))\n",
    "\n",
    "# Creating a classification report\n",
    "print('The classification report: ')\n",
    "print(classification_report(yval, y_pred_val1, target_names=['no tumor', 'tumor']))\n",
    "\n",
    "# Creating a confusion matrix\n",
    "print('The confusion matrix: ')\n",
    "conf_mat1 = confusion_matrix(yval, y_pred_val1, labels=[0, 1])\n",
    "cm_disp1 = ConfusionMatrixDisplay(confusion_matrix=conf_mat1, display_labels=['no tumor', 'tumor'])\n",
    "cm_disp1.plot()"
   ]
  },
  {
   "cell_type": "code",
   "execution_count": 10,
   "id": "abe2ff34",
   "metadata": {},
   "outputs": [
    {
     "data": {
      "image/png": "[encoded data removed]",
      "text/plain": [
       "<Figure size 432x288 with 1 Axes>"
      ]
     },
     "metadata": {
      "needs_background": "light"
     },
     "output_type": "display_data"
    },
    {
     "data": {
      "image/png": "[encoded data removed]",
      "text/plain": [
       "<Figure size 432x288 with 1 Axes>"
      ]
     },
     "metadata": {
      "needs_background": "light"
     },
     "output_type": "display_data"
    }
   ],
   "source": [
    "# In order to graph the learning curve and the loss curve of the models .history atribute of the fitted model is utilized.\n",
    "# Afterwards the learning curve and the loss curve are plotted.\n",
    "plt.plot(final_model.history['accuracy'], 'o-', color=\"r\", label = 'Training error')\n",
    "plt.plot(final_model.history['val_accuracy'], 'o-', color=\"g\", label = 'Validation error')\n",
    "plt.ylabel('Accuracy', fontsize = 14)\n",
    "plt.xlabel('Number of Epoch', fontsize = 14)\n",
    "plt.ylim((0,1))\n",
    "plt.title('Learning curves for the CNN model')\n",
    "plt.legend(['Training', 'Validation'], loc='lower left')\n",
    "plt.show()\n",
    "\n",
    "plt.plot(final_model.history['loss'], 'o-', color=\"r\", label = 'Training')\n",
    "plt.plot(final_model.history['val_loss'], 'o-', color=\"g\", label = 'Validation')\n",
    "plt.ylabel('Loss', fontsize = 14)\n",
    "plt.xlabel('Number of Epoch', fontsize = 14)\n",
    "plt.legend(['Training', 'Validation'], loc='lower left')\n",
    "plt.title('Loss curves for the CNN model')\n",
    "plt.show()"
   ]
  },
  {
   "cell_type": "markdown",
   "id": "ce7eca0a",
   "metadata": {},
   "source": [
    "# Testing the Model with the Test Data"
   ]
  },
  {
   "cell_type": "markdown",
   "id": "ed5df09e",
   "metadata": {},
   "source": [
    "# Getting the Testing Data"
   ]
  },
  {
   "cell_type": "code",
   "execution_count": 11,
   "id": "77beb4eb",
   "metadata": {},
   "outputs": [],
   "source": [
    "# Importing the data through the data_acquisition file\n",
    "x2dat, y2dat = da.labels_binary('./test')\n",
    "x2 = np.array(x2dat)\n",
    "y2 = np.array(y2dat)\n",
    "\n",
    "# Normalizing the features\n",
    "x2 /= 255\n",
    "\n",
    "# Converting the 3 dimensional features to one dimension\n",
    "for i in range(x2.shape[0]):\n",
    "    x2[i] = np.reshape(x2[i], (512, 512, 1))"
   ]
  },
  {
   "cell_type": "code",
   "execution_count": 12,
   "id": "45fa4a7b",
   "metadata": {},
   "outputs": [],
   "source": [
    "# Predicting the output using our model\n",
    "y2_test_pred = cnn_model.predict_classes(x2)"
   ]
  },
  {
   "cell_type": "markdown",
   "id": "81bb9a44",
   "metadata": {},
   "source": [
    "# Evaluating the Model Using the Test Set"
   ]
  },
  {
   "cell_type": "code",
   "execution_count": 13,
   "id": "3d3c6a22",
   "metadata": {},
   "outputs": [
    {
     "name": "stdout",
     "output_type": "stream",
     "text": [
      "The accuracy of the test set: \n",
      "0.965\n",
      "The classification report: \n",
      "              precision    recall  f1-score   support\n",
      "\n",
      "    no tumor       0.89      0.92      0.91        37\n",
      "       tumor       0.98      0.98      0.98       163\n",
      "\n",
      "    accuracy                           0.96       200\n",
      "   macro avg       0.94      0.95      0.94       200\n",
      "weighted avg       0.97      0.96      0.97       200\n",
      "\n",
      "The confusion matrix: \n"
     ]
    },
    {
     "data": {
      "text/plain": [
       "<sklearn.metrics._plot.confusion_matrix.ConfusionMatrixDisplay at 0x2b02c5dbec8>"
      ]
     },
     "execution_count": 13,
     "metadata": {},
     "output_type": "execute_result"
    },
    {
     "data": {
      "image/png": "[encoded data removed]",
      "text/plain": [
       "<Figure size 432x288 with 2 Axes>"
      ]
     },
     "metadata": {
      "needs_background": "light"
     },
     "output_type": "display_data"
    }
   ],
   "source": [
    "# Producing an accuracy score\n",
    "print('The accuracy of the test set: ')\n",
    "print(accuracy_score(y2, y2_test_pred))\n",
    "\n",
    "# Creating a classification report\n",
    "print('The classification report: ')\n",
    "print(classification_report(y2, y2_test_pred, target_names=['no tumor', 'tumor']))\n",
    "\n",
    "# Creating a confusion matrix\n",
    "print('The confusion matrix: ')\n",
    "conf_mat1 = confusion_matrix(y2, y2_test_pred, labels=[0, 1])\n",
    "cm_disp1 = ConfusionMatrixDisplay(confusion_matrix=conf_mat1, display_labels=['no tumor', 'tumor'])\n",
    "cm_disp1.plot()"
   ]
  }
 ],
 "metadata": {
  "kernelspec": {
   "display_name": "Python 3 (ipykernel)",
   "language": "python",
   "name": "python3"
  },
  "language_info": {
   "codemirror_mode": {
    "name": "ipython",
    "version": 3
   },
   "file_extension": ".py",
   "mimetype": "text/x-python",
   "name": "python",
   "nbconvert_exporter": "python",
   "pygments_lexer": "ipython3",
   "version": "3.7.11"
  }
 },
 "nbformat": 4,
 "nbformat_minor": 5
}
