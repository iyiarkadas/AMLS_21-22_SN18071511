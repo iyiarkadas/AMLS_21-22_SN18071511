{
 "cells": [
  {
   "cell_type": "code",
   "execution_count": 1,
   "id": "0d36a063",
   "metadata": {},
   "outputs": [
    {
     "name": "stderr",
     "output_type": "stream",
     "text": [
      "Using TensorFlow backend.\n"
     ]
    }
   ],
   "source": [
    "import numpy as np\n",
    "import matplotlib.pyplot as plt\n",
    "from sklearn import svm, datasets\n",
    "from sklearn.svm import SVC\n",
    "from sklearn.model_selection import train_test_split\n",
    "from sklearn.utils import shuffle\n",
    "from sklearn.metrics import classification_report,accuracy_score\n",
    "import pandas as pd\n",
    "from sklearn.datasets import load_iris\n",
    "\n",
    "import matplotlib.pyplot as plt\n",
    "import matplotlib.image as mpimg\n",
    "import tensorflow\n",
    "import keras\n",
    "from keras.layers import *\n",
    "from keras.models import *\n",
    "from keras.preprocessing import image"
   ]
  },
  {
   "cell_type": "code",
   "execution_count": 2,
   "id": "4572f67d",
   "metadata": {},
   "outputs": [],
   "source": [
    "import os\n",
    "from keras.preprocessing import image\n",
    "\n",
    "global base_dir, image_paths, target_size\n",
    "base_dir = './dataset'\n",
    "images_dir = os.path.join(base_dir,'image')\n",
    "label_filename = 'label.csv'\n",
    "\n",
    "image_paths = [os.path.join(images_dir, l) for l in os.listdir(images_dir)]\n",
    "target_size = None\n",
    "# Opening the label file\n",
    "label_file = open(os.path.join(base_dir, label_filename), 'r')\n",
    "# Reading the lines\n",
    "label_lines = label_file.readlines()\n",
    "#print(image_paths)\n",
    "tumor_labels = {line.split(',')[0] : line.split(',')[1] for line in label_lines[1:]}\n",
    "for k, v in tumor_labels.items():\n",
    "    tumor_labels[k] = v.replace('\\n', '')\n",
    "#tumor_labels[:,1] = {line.replace('\\n', '') for line in tumor_labels[1:]}\n",
    "for k in tumor_labels:\n",
    "    if 'no_tumor' in tumor_labels[k]:\n",
    "        tumor_labels[k] = 0\n",
    "    else:\n",
    "        tumor_labels[k] = 1\n",
    "    #tumor_labels[k].contains() == \n",
    "#print(tumor_labels)\n",
    "\n",
    "if os.path.isdir(images_dir):\n",
    "    all_features = []\n",
    "    #         all_features = []\n",
    "    all_labels = []\n",
    "    for img_path in image_paths:\n",
    "         #No need for this \n",
    "            # file_name= img_path.split('/')[-1]\n",
    "        #file_name= img_path.split('.')[1].split('/')[-1] + '.jpg'\n",
    "        file_name= img_path.split('\\\\')[-1]\n",
    "        # load image\n",
    "        img = image.img_to_array(image.load_img(img_path, color_mode='grayscale'))\n",
    "        #img = image.img_to_array(image.load_img(img_path, color_mode='grayscale', target_size=target_size, interpolation='bicubic'))\n",
    "        img = np.reshape(img, (512,512, 1))\n",
    "        # Getting rid of rgb data to greyscale\n",
    "        #img = np.squeeze(img)\n",
    "        if img is not None:\n",
    "            all_features.append(img)\n",
    "            all_labels.append(tumor_labels[file_name])\n"
   ]
  },
  {
   "cell_type": "code",
   "execution_count": 3,
   "id": "c7f6b275",
   "metadata": {},
   "outputs": [],
   "source": [
    "x = np.array(all_features)\n",
    "y = np.array(all_labels)\n",
    "# print(xtrain.shape)\n",
    "#x = np.squeeze(x)\n",
    "#print(xtrain.shape)\n",
    "x /= 255\n",
    "\n",
    "xtrain, xtest, ytrain, ytest = train_test_split(x, y, test_size=0.20, random_state=10) \n",
    "\n",
    "#img = mpimg.imread('your_image.png')\n",
    "#imgplot = plt.imshow(all_features[1], cmap='Greys_r')\n",
    "\n"
   ]
  },
  {
   "cell_type": "code",
   "execution_count": 12,
   "id": "83cbbced",
   "metadata": {
    "scrolled": true
   },
   "outputs": [
    {
     "name": "stdout",
     "output_type": "stream",
     "text": [
      "(2400, 512, 512, 1)\n",
      "(2400,)\n"
     ]
    }
   ],
   "source": [
    "print(xtrain.shape)\n",
    "print(ytrain.shape)"
   ]
  },
  {
   "cell_type": "code",
   "execution_count": 4,
   "id": "3d7a1b6f",
   "metadata": {},
   "outputs": [],
   "source": [
    "cnn_model = Sequential()\n",
    "cnn_model.add(Conv2D(32, kernel_size=(3,3), activation='relu', input_shape=(512,512,1)))\n",
    "cnn_model.add(Conv2D(64, (3,3), activation='relu'))\n",
    "cnn_model.add(MaxPooling2D(pool_size=(2,2)))\n",
    "cnn_model.add(Dropout(0.25))\n",
    "\n",
    "cnn_model.add(Conv2D(64, (3,3), activation='relu'))\n",
    "cnn_model.add(MaxPooling2D(pool_size=(2,2)))\n",
    "cnn_model.add(Dropout(0.25))\n",
    "\n",
    "cnn_model.add(Conv2D(128, (3,3), activation='relu'))\n",
    "cnn_model.add(MaxPooling2D(pool_size=(2,2)))\n",
    "cnn_model.add(Dropout(0.25))\n",
    "\n",
    "cnn_model.add(Flatten())\n",
    "cnn_model.add(Dense(64, activation='relu'))\n",
    "cnn_model.add(Dropout(0.25))\n",
    "cnn_model.add(Dense(1, activation='sigmoid'))\n",
    "\n",
    "cnn_model.compile(loss=keras.losses.binary_crossentropy, optimizer='adam', metrics=['accuracy'])"
   ]
  },
  {
   "cell_type": "code",
   "execution_count": 18,
   "id": "845c793e",
   "metadata": {},
   "outputs": [
    {
     "name": "stdout",
     "output_type": "stream",
     "text": [
      "Model: \"sequential_3\"\n",
      "_________________________________________________________________\n",
      "Layer (type)                 Output Shape              Param #   \n",
      "=================================================================\n",
      "conv2d_9 (Conv2D)            (None, 510, 510, 32)      320       \n",
      "_________________________________________________________________\n",
      "conv2d_10 (Conv2D)           (None, 508, 508, 64)      18496     \n",
      "_________________________________________________________________\n",
      "max_pooling2d_7 (MaxPooling2 (None, 254, 254, 64)      0         \n",
      "_________________________________________________________________\n",
      "dropout_9 (Dropout)          (None, 254, 254, 64)      0         \n",
      "_________________________________________________________________\n",
      "conv2d_11 (Conv2D)           (None, 252, 252, 64)      36928     \n",
      "_________________________________________________________________\n",
      "max_pooling2d_8 (MaxPooling2 (None, 126, 126, 64)      0         \n",
      "_________________________________________________________________\n",
      "dropout_10 (Dropout)         (None, 126, 126, 64)      0         \n",
      "_________________________________________________________________\n",
      "conv2d_12 (Conv2D)           (None, 124, 124, 128)     73856     \n",
      "_________________________________________________________________\n",
      "max_pooling2d_9 (MaxPooling2 (None, 62, 62, 128)       0         \n",
      "_________________________________________________________________\n",
      "dropout_11 (Dropout)         (None, 62, 62, 128)       0         \n",
      "_________________________________________________________________\n",
      "flatten_3 (Flatten)          (None, 492032)            0         \n",
      "_________________________________________________________________\n",
      "dense_5 (Dense)              (None, 64)                31490112  \n",
      "_________________________________________________________________\n",
      "dropout_12 (Dropout)         (None, 64)                0         \n",
      "_________________________________________________________________\n",
      "dense_6 (Dense)              (None, 1)                 65        \n",
      "=================================================================\n",
      "Total params: 31,619,777\n",
      "Trainable params: 31,619,777\n",
      "Non-trainable params: 0\n",
      "_________________________________________________________________\n"
     ]
    }
   ],
   "source": [
    "cnn_model.summary()"
   ]
  },
  {
   "cell_type": "code",
   "execution_count": 5,
   "id": "5aec668d",
   "metadata": {},
   "outputs": [
    {
     "name": "stdout",
     "output_type": "stream",
     "text": [
      "Train on 2400 samples, validate on 600 samples\n",
      "Epoch 1/10\n",
      "2400/2400 [==============================] - 57s 24ms/step - loss: 0.4416 - accuracy: 0.8417 - val_loss: 0.2983 - val_accuracy: 0.8550\n",
      "Epoch 2/10\n",
      "2400/2400 [==============================] - 49s 21ms/step - loss: 0.2781 - accuracy: 0.8550 - val_loss: 0.2695 - val_accuracy: 0.8600\n",
      "Epoch 3/10\n",
      "2400/2400 [==============================] - 49s 20ms/step - loss: 0.2215 - accuracy: 0.9008 - val_loss: 0.2574 - val_accuracy: 0.9017\n",
      "Epoch 4/10\n",
      "2400/2400 [==============================] - 49s 21ms/step - loss: 0.1692 - accuracy: 0.9333 - val_loss: 0.2011 - val_accuracy: 0.9383\n",
      "Epoch 5/10\n",
      "2400/2400 [==============================] - 49s 21ms/step - loss: 0.1081 - accuracy: 0.9529 - val_loss: 0.2271 - val_accuracy: 0.9383\n",
      "Epoch 6/10\n",
      "2400/2400 [==============================] - 48s 20ms/step - loss: 0.0811 - accuracy: 0.9667 - val_loss: 0.2457 - val_accuracy: 0.9333\n",
      "Epoch 7/10\n",
      "2400/2400 [==============================] - 48s 20ms/step - loss: 0.0617 - accuracy: 0.9737 - val_loss: 0.2448 - val_accuracy: 0.9400\n",
      "Epoch 8/10\n",
      "2400/2400 [==============================] - 48s 20ms/step - loss: 0.0456 - accuracy: 0.9833 - val_loss: 0.2577 - val_accuracy: 0.9550\n",
      "Epoch 9/10\n",
      "2400/2400 [==============================] - 48s 20ms/step - loss: 0.0520 - accuracy: 0.9812 - val_loss: 0.2751 - val_accuracy: 0.9500\n",
      "Epoch 10/10\n",
      "2400/2400 [==============================] - 48s 20ms/step - loss: 0.0308 - accuracy: 0.9887 - val_loss: 0.3336 - val_accuracy: 0.9533\n"
     ]
    }
   ],
   "source": [
    "final_model = cnn_model.fit(xtrain, ytrain, batch_size=10, epochs=10, validation_data=(xtest, ytest))"
   ]
  },
  {
   "cell_type": "code",
   "execution_count": null,
   "id": "71e3041b",
   "metadata": {},
   "outputs": [],
   "source": []
  }
 ],
 "metadata": {
  "kernelspec": {
   "display_name": "Python 3",
   "language": "python",
   "name": "python3"
  },
  "language_info": {
   "codemirror_mode": {
    "name": "ipython",
    "version": 3
   },
   "file_extension": ".py",
   "mimetype": "text/x-python",
   "name": "python",
   "nbconvert_exporter": "python",
   "pygments_lexer": "ipython3",
   "version": "3.7.9"
  }
 },
 "nbformat": 4,
 "nbformat_minor": 5
}
