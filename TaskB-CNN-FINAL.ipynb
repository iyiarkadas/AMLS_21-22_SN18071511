{
 "cells": [
  {
   "cell_type": "code",
   "execution_count": 27,
   "id": "fca33d0a",
   "metadata": {},
   "outputs": [],
   "source": [
    "import numpy as np\n",
    "import matplotlib.pyplot as plt\n",
    "from sklearn import svm, datasets\n",
    "from sklearn.svm import SVC\n",
    "from sklearn.model_selection import train_test_split\n",
    "from sklearn.utils import shuffle\n",
    "from sklearn.metrics import classification_report,accuracy_score, confusion_matrix, ConfusionMatrixDisplay\n",
    "import pandas as pd\n",
    "from sklearn.datasets import load_iris\n",
    "import data_acquisition as da\n",
    "import time\n",
    "\n",
    "import matplotlib.pyplot as plt\n",
    "import matplotlib.image as mpimg\n",
    "import tensorflow\n",
    "import keras\n",
    "from keras.layers import *\n",
    "from keras.models import *\n",
    "from keras.preprocessing import image"
   ]
  },
  {
   "cell_type": "code",
   "execution_count": 2,
   "id": "efcad53e",
   "metadata": {},
   "outputs": [],
   "source": [
    "import pandas\n",
    "from keras.models import Sequential\n",
    "from keras.layers import Dense\n",
    "from keras.wrappers.scikit_learn import KerasClassifier\n",
    "from keras.utils import np_utils\n",
    "from sklearn.model_selection import cross_val_score\n",
    "from sklearn.model_selection import KFold\n",
    "from sklearn.preprocessing import LabelEncoder\n",
    "from sklearn.pipeline import Pipeline"
   ]
  },
  {
   "cell_type": "code",
   "execution_count": 4,
   "id": "12d075bc",
   "metadata": {},
   "outputs": [],
   "source": [
    "# Importing the data through the data_acquisition file\n",
    "xdat, ydat = da.labels_multiclass('./dataset')\n",
    "# Normalizing the data\n",
    "x = np.array(xdat)\n",
    "y = np.array(ydat)\n",
    "x /= 255\n",
    "# Converting the 3 dimensional features to one dimension\n",
    "for i in range(x.shape[0]):\n",
    "    x[i] = np.reshape(x[i], (512, 512, 1))"
   ]
  },
  {
   "cell_type": "code",
   "execution_count": 5,
   "id": "00003bb2",
   "metadata": {},
   "outputs": [],
   "source": [
    "# Splitting the data onto a test and a train set\n",
    "xtrain, xval, ytrain, yval = train_test_split(x, y, train_size=0.85, random_state=15) "
   ]
  },
  {
   "cell_type": "code",
   "execution_count": 6,
   "id": "c4b12759",
   "metadata": {},
   "outputs": [
    {
     "name": "stdout",
     "output_type": "stream",
     "text": [
      "(2550, 512, 512, 1)\n"
     ]
    }
   ],
   "source": [
    "print(xtrain.shape)"
   ]
  },
  {
   "cell_type": "code",
   "execution_count": 7,
   "id": "b6b4fc37",
   "metadata": {},
   "outputs": [],
   "source": [
    "cnn_model = Sequential()\n",
    "cnn_model.add(Conv2D(32, kernel_size=(3,3), activation='relu', input_shape=(512,512,1)))\n",
    "#cnn_model.add(Conv2D(64, (3,3), activation='relu'))\n",
    "cnn_model.add(MaxPooling2D(pool_size=(2,2)))\n",
    "cnn_model.add(Dropout(0.25))\n",
    "\n",
    "cnn_model.add(Conv2D(64, (3,3), activation='relu'))\n",
    "cnn_model.add(MaxPooling2D(pool_size=(2,2)))\n",
    "cnn_model.add(Dropout(0.25))\n",
    "\n",
    "cnn_model.add(Conv2D(128, (3,3), activation='relu'))\n",
    "cnn_model.add(MaxPooling2D(pool_size=(2,2)))\n",
    "cnn_model.add(Dropout(0.25))\n",
    "\n",
    "cnn_model.add(Flatten())\n",
    "cnn_model.add(Dense(64, activation='relu'))\n",
    "cnn_model.add(Dropout(0.25))\n",
    "cnn_model.add(Dense(4, activation='softmax'))\n",
    "\n",
    "cnn_model.compile(loss=keras.losses.categorical_crossentropy, optimizer='adam', metrics=['accuracy'])"
   ]
  },
  {
   "cell_type": "code",
   "execution_count": 8,
   "id": "625f41d2",
   "metadata": {},
   "outputs": [
    {
     "name": "stdout",
     "output_type": "stream",
     "text": [
      "Model: \"sequential_1\"\n",
      "_________________________________________________________________\n",
      "Layer (type)                 Output Shape              Param #   \n",
      "=================================================================\n",
      "conv2d_1 (Conv2D)            (None, 510, 510, 32)      320       \n",
      "_________________________________________________________________\n",
      "max_pooling2d_1 (MaxPooling2 (None, 255, 255, 32)      0         \n",
      "_________________________________________________________________\n",
      "dropout_1 (Dropout)          (None, 255, 255, 32)      0         \n",
      "_________________________________________________________________\n",
      "conv2d_2 (Conv2D)            (None, 253, 253, 64)      18496     \n",
      "_________________________________________________________________\n",
      "max_pooling2d_2 (MaxPooling2 (None, 126, 126, 64)      0         \n",
      "_________________________________________________________________\n",
      "dropout_2 (Dropout)          (None, 126, 126, 64)      0         \n",
      "_________________________________________________________________\n",
      "conv2d_3 (Conv2D)            (None, 124, 124, 128)     73856     \n",
      "_________________________________________________________________\n",
      "max_pooling2d_3 (MaxPooling2 (None, 62, 62, 128)       0         \n",
      "_________________________________________________________________\n",
      "dropout_3 (Dropout)          (None, 62, 62, 128)       0         \n",
      "_________________________________________________________________\n",
      "flatten_1 (Flatten)          (None, 492032)            0         \n",
      "_________________________________________________________________\n",
      "dense_1 (Dense)              (None, 64)                31490112  \n",
      "_________________________________________________________________\n",
      "dropout_4 (Dropout)          (None, 64)                0         \n",
      "_________________________________________________________________\n",
      "dense_2 (Dense)              (None, 4)                 260       \n",
      "=================================================================\n",
      "Total params: 31,583,044\n",
      "Trainable params: 31,583,044\n",
      "Non-trainable params: 0\n",
      "_________________________________________________________________\n"
     ]
    }
   ],
   "source": [
    "cnn_model.summary()"
   ]
  },
  {
   "cell_type": "code",
   "execution_count": 13,
   "id": "ca1b49af",
   "metadata": {},
   "outputs": [
    {
     "name": "stdout",
     "output_type": "stream",
     "text": [
      "Train on 2550 samples, validate on 450 samples\n",
      "Epoch 1/10\n",
      "2550/2550 [==============================] - 24s 10ms/step - loss: 0.8390 - accuracy: 0.6624 - val_loss: 0.6583 - val_accuracy: 0.7378s: 0.8389 - accuracy - ETA: 0s - loss: 0.8397 - accuracy: 0.66\n",
      "Epoch 2/10\n",
      "2550/2550 [==============================] - 24s 9ms/step - loss: 0.4784 - accuracy: 0.8165 - val_loss: 0.5164 - val_accuracy: 0.7978\n",
      "Epoch 3/10\n",
      "2550/2550 [==============================] - 24s 9ms/step - loss: 0.3245 - accuracy: 0.8788 - val_loss: 0.4641 - val_accuracy: 0.8267\n",
      "Epoch 4/10\n",
      "2550/2550 [==============================] - 24s 9ms/step - loss: 0.1979 - accuracy: 0.9239 - val_loss: 0.6268 - val_accuracy: 0.8000\n",
      "Epoch 5/10\n",
      "2550/2550 [==============================] - 23s 9ms/step - loss: 0.1708 - accuracy: 0.9376 - val_loss: 0.6303 - val_accuracy: 0.8156\n",
      "Epoch 6/10\n",
      "2550/2550 [==============================] - 23s 9ms/step - loss: 0.1399 - accuracy: 0.9427 - val_loss: 0.7491 - val_accuracy: 0.8289\n",
      "Epoch 7/10\n",
      "2550/2550 [==============================] - 23s 9ms/step - loss: 0.1088 - accuracy: 0.9600 - val_loss: 0.5516 - val_accuracy: 0.8378\n",
      "Epoch 8/10\n",
      "2550/2550 [==============================] - 23s 9ms/step - loss: 0.0842 - accuracy: 0.9682 - val_loss: 0.7046 - val_accuracy: 0.8267\n",
      "Epoch 9/10\n",
      "2550/2550 [==============================] - 23s 9ms/step - loss: 0.1073 - accuracy: 0.9620 - val_loss: 0.5438 - val_accuracy: 0.8533\n",
      "Epoch 10/10\n",
      "2550/2550 [==============================] - 23s 9ms/step - loss: 0.0633 - accuracy: 0.9729 - val_loss: 0.6413 - val_accuracy: 0.8378\n",
      "Training time is: 234.64269971847534 seconds\n"
     ]
    }
   ],
   "source": [
    "start_time = time.time()\n",
    "final_model = cnn_model.fit(xtrain, ytrain, batch_size=10, epochs=10, validation_data=(xval, yval))\n",
    "classifier3_time = time.time() - start_time\n",
    "print(\"Training time is: %s seconds\" % (classifier3_time))"
   ]
  },
  {
   "cell_type": "code",
   "execution_count": null,
   "id": "0a5c6332",
   "metadata": {},
   "outputs": [],
   "source": [
    "#classification_report(ytest, )"
   ]
  },
  {
   "cell_type": "code",
   "execution_count": null,
   "id": "d07981e5",
   "metadata": {},
   "outputs": [],
   "source": [
    "# final_model = KerasClassifier(build_fn=cnn_model, epochs=200, batch_size=5, verbose=0)"
   ]
  },
  {
   "cell_type": "code",
   "execution_count": null,
   "id": "1210b199",
   "metadata": {},
   "outputs": [],
   "source": [
    "# kfold = KFold(n_splits=10, shuffle=True)\n",
    "# results = cross_val_score(final_model, xtrain, ytrain, cv=kfold)\n",
    "# print(\"Baseline: %.2f%% (%.2f%%)\" % (results.mean()*100, results.std()*100))"
   ]
  },
  {
   "cell_type": "code",
   "execution_count": 14,
   "id": "77aeca79",
   "metadata": {},
   "outputs": [],
   "source": [
    "y_pred_train1 = cnn_model.predict_classes(xtrain)\n",
    "y_pred_val1 = cnn_model.predict_classes(xval)"
   ]
  },
  {
   "cell_type": "markdown",
   "id": "0385be84",
   "metadata": {},
   "source": [
    "# Getting accuracy results"
   ]
  },
  {
   "cell_type": "code",
   "execution_count": 21,
   "id": "e0f7fb65",
   "metadata": {},
   "outputs": [
    {
     "data": {
      "text/plain": [
       "array([1, 1, 1, ..., 3, 3, 1], dtype=int64)"
      ]
     },
     "execution_count": 21,
     "metadata": {},
     "output_type": "execute_result"
    }
   ],
   "source": [
    "y_pred_train1"
   ]
  },
  {
   "cell_type": "code",
   "execution_count": 22,
   "id": "dfd8b260",
   "metadata": {},
   "outputs": [
    {
     "data": {
      "text/plain": [
       "1"
      ]
     },
     "execution_count": 22,
     "metadata": {},
     "output_type": "execute_result"
    }
   ],
   "source": [
    "rounded_ytrain = np.argmax(ytrain, axis=1)\n",
    "rounded_yval = np.argmax(yval, axis=1)\n",
    "#rounded_y_pred_train1 = np.argmax(y_pred_train1, axis=1)\n",
    "#rounded_y_pred_val1 = np.argmax(y_pred_val1, axis=1)\n",
    "rounded_ytrain[1]\n",
    "# 2"
   ]
  },
  {
   "cell_type": "code",
   "execution_count": 30,
   "id": "f39a8368",
   "metadata": {},
   "outputs": [
    {
     "name": "stdout",
     "output_type": "stream",
     "text": [
      "The accuracy of the train set: \n",
      "0.9984313725490196\n",
      "The accuracy of the validation set: \n",
      "0.8377777777777777\n",
      "The classification report: \n",
      "              precision    recall  f1-score   support\n",
      "\n",
      "    no tumor       0.78      0.83      0.80       149\n",
      "   pituitary       0.80      0.73      0.77       120\n",
      "      glioma       0.95      0.97      0.96       116\n",
      "  meningioma       0.84      0.82      0.83        65\n",
      "\n",
      "    accuracy                           0.84       450\n",
      "   macro avg       0.84      0.84      0.84       450\n",
      "weighted avg       0.84      0.84      0.84       450\n",
      "\n",
      "The confusion matrix: \n"
     ]
    },
    {
     "data": {
      "text/plain": [
       "<sklearn.metrics._plot.confusion_matrix.ConfusionMatrixDisplay at 0x1d5db89c708>"
      ]
     },
     "execution_count": 30,
     "metadata": {},
     "output_type": "execute_result"
    },
    {
     "data": {
      "image/png": "[encoded data removed]",
      "text/plain": [
       "<Figure size 432x288 with 2 Axes>"
      ]
     },
     "metadata": {
      "needs_background": "light"
     },
     "output_type": "display_data"
    }
   ],
   "source": [
    "#print(accuracy_score(ytest, final_model))\n",
    "#y_val_pred = cnn_model.predict_classes(xval)\n",
    "#print(accuracy_score(yval, y_val_pred))\n",
    "\n",
    "print('The accuracy of the train set: ')\n",
    "print(accuracy_score(rounded_ytrain, y_pred_train1))\n",
    "print('The accuracy of the validation set: ')\n",
    "print(accuracy_score(rounded_yval, y_pred_val1))\n",
    "\n",
    "print('The classification report: ')\n",
    "print(classification_report(rounded_yval, y_pred_val1, target_names=['no tumor', 'pituitary', 'glioma', 'meningioma']))\n",
    "\n",
    "print('The confusion matrix: ')\n",
    "conf_mat1 = confusion_matrix(rounded_yval, y_pred_val1, labels=[0, 1, 2, 3])\n",
    "cm_disp1 = ConfusionMatrixDisplay(confusion_matrix=conf_mat1, display_labels=['no tumor', 'pituitary', 'glioma', 'meningioma'])\n",
    "cm_disp1.plot()"
   ]
  },
  {
   "cell_type": "code",
   "execution_count": 31,
   "id": "de65056e",
   "metadata": {},
   "outputs": [
    {
     "data": {
      "image/png": "[encoded data removed]",
      "text/plain": [
       "<Figure size 432x288 with 1 Axes>"
      ]
     },
     "metadata": {
      "needs_background": "light"
     },
     "output_type": "display_data"
    },
    {
     "data": {
      "image/png": "[encoded data removed]",
      "text/plain": [
       "<Figure size 432x288 with 1 Axes>"
      ]
     },
     "metadata": {
      "needs_background": "light"
     },
     "output_type": "display_data"
    }
   ],
   "source": [
    "plt.plot(final_model.history['accuracy'], 'o-', color=\"r\", label = 'Training error')\n",
    "plt.plot(final_model.history['val_accuracy'], 'o-', color=\"g\", label = 'Validation error')\n",
    "plt.ylabel('Accuracy', fontsize = 14)\n",
    "plt.xlabel('Number of Epoch', fontsize = 14)\n",
    "plt.ylim((0,1))\n",
    "plt.title('Learning curves for the CNN model')\n",
    "plt.legend(['Training', 'Validation'], loc='lower left')\n",
    "plt.show()\n",
    "\n",
    "plt.plot(final_model.history['loss'], 'o-', color=\"r\", label = 'Training')\n",
    "plt.plot(final_model.history['val_loss'], 'o-', color=\"g\", label = 'Validation')\n",
    "plt.ylabel('Loss', fontsize = 14)\n",
    "plt.xlabel('Number of Epoch', fontsize = 14)\n",
    "plt.legend(['Training', 'Validation'], loc='lower left')\n",
    "plt.title('Loss curves for the CNN model')\n",
    "plt.show()"
   ]
  },
  {
   "cell_type": "markdown",
   "id": "c255c322",
   "metadata": {},
   "source": [
    "# Testing the Model with the Test Data"
   ]
  },
  {
   "cell_type": "code",
   "execution_count": 39,
   "id": "be20578c",
   "metadata": {},
   "outputs": [],
   "source": [
    "# Importing the data through the data_acquisition file\n",
    "x2dat, y2dat = da.labels_multiclass('./test')\n",
    "x2 = np.array(x2dat)\n",
    "y2 = np.array(y2dat)\n",
    "# Normalizing the data\n",
    "x2 /= 255\n",
    "# Converting the 3 dimensional features to one dimension\n",
    "for i in range(x2.shape[0]):\n",
    "    x2[i] = np.reshape(x2[i], (512, 512, 1))"
   ]
  },
  {
   "cell_type": "code",
   "execution_count": 40,
   "id": "ce506cdf",
   "metadata": {},
   "outputs": [],
   "source": [
    "y2_test_pred = cnn_model.predict_classes(x2)"
   ]
  },
  {
   "cell_type": "code",
   "execution_count": 55,
   "id": "9d7f8ff3",
   "metadata": {},
   "outputs": [],
   "source": [
    "rounded_y2 = np.argmax(y2, axis=1)"
   ]
  },
  {
   "cell_type": "code",
   "execution_count": 49,
   "id": "77933185",
   "metadata": {},
   "outputs": [
    {
     "name": "stdout",
     "output_type": "stream",
     "text": [
      "The accuracy of the test set: \n",
      "0.885\n",
      "The classification report: \n",
      "              precision    recall  f1-score   support\n",
      "\n",
      "    no tumor       0.87      0.85      0.86        68\n",
      "   pituitary       0.85      0.81      0.83        43\n",
      "      glioma       0.93      0.98      0.95        52\n",
      "  meningioma       0.89      0.89      0.89        37\n",
      "\n",
      "    accuracy                           0.89       200\n",
      "   macro avg       0.88      0.88      0.88       200\n",
      "weighted avg       0.88      0.89      0.88       200\n",
      "\n",
      "The confusion matrix: \n"
     ]
    },
    {
     "data": {
      "text/plain": [
       "<sklearn.metrics._plot.confusion_matrix.ConfusionMatrixDisplay at 0x1d95284f348>"
      ]
     },
     "execution_count": 49,
     "metadata": {},
     "output_type": "execute_result"
    },
    {
     "data": {
      "image/png": "[encoded data removed]",
      "text/plain": [
       "<Figure size 432x288 with 2 Axes>"
      ]
     },
     "metadata": {
      "needs_background": "light"
     },
     "output_type": "display_data"
    }
   ],
   "source": [
    "print('The accuracy of the test set: ')\n",
    "print(accuracy_score(rounded_y2, y2_test_pred))\n",
    "\n",
    "print('The classification report: ')\n",
    "print(classification_report(rounded_y2, y2_test_pred, target_names=['no tumor', 'pituitary', 'glioma', 'meningioma']))\n",
    "\n",
    "print('The confusion matrix: ')\n",
    "conf_mat1 = confusion_matrix(rounded_y2, y2_test_pred, labels=[0, 1, 2, 3])\n",
    "cm_disp1 = ConfusionMatrixDisplay(confusion_matrix=conf_mat1, display_labels=['no tumor', 'pituitary', 'glioma', 'meningioma'])\n",
    "cm_disp1.plot()"
   ]
  },
  {
   "cell_type": "code",
   "execution_count": null,
   "id": "5384aca8",
   "metadata": {},
   "outputs": [],
   "source": []
  },
  {
   "cell_type": "code",
   "execution_count": null,
   "id": "19b1e04a",
   "metadata": {},
   "outputs": [],
   "source": []
  }
 ],
 "metadata": {
  "kernelspec": {
   "display_name": "Python 3 (ipykernel)",
   "language": "python",
   "name": "python3"
  },
  "language_info": {
   "codemirror_mode": {
    "name": "ipython",
    "version": 3
   },
   "file_extension": ".py",
   "mimetype": "text/x-python",
   "name": "python",
   "nbconvert_exporter": "python",
   "pygments_lexer": "ipython3",
   "version": "3.7.11"
  }
 },
 "nbformat": 4,
 "nbformat_minor": 5
}
