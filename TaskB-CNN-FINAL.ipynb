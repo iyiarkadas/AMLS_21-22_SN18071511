{
 "cells": [
  {
   "cell_type": "markdown",
   "id": "3c87735a",
   "metadata": {},
   "source": [
    "# TASK B: Building a Multiclass Classifier by Implementing CNN"
   ]
  },
  {
   "cell_type": "markdown",
   "id": "ef549fa8",
   "metadata": {},
   "source": [
    "# Importing the necessary libraries for the task"
   ]
  },
  {
   "cell_type": "code",
   "execution_count": 1,
   "id": "fca33d0a",
   "metadata": {},
   "outputs": [
    {
     "name": "stderr",
     "output_type": "stream",
     "text": [
      "Using TensorFlow backend.\n"
     ]
    }
   ],
   "source": [
    "import numpy as np\n",
    "import matplotlib.pyplot as plt\n",
    "from sklearn import svm\n",
    "from sklearn.svm import SVC\n",
    "from sklearn.model_selection import train_test_split\n",
    "from sklearn.metrics import classification_report,accuracy_score, confusion_matrix, ConfusionMatrixDisplay\n",
    "\n",
    "import data_acquisition as da\n",
    "import time\n",
    "import tensorflow\n",
    "import keras\n",
    "from keras.layers import *\n",
    "from keras.models import *\n",
    "from keras.preprocessing import image\n",
    "from keras.models import Sequential\n",
    "from keras.layers import Dense\n",
    "from keras.wrappers.scikit_learn import KerasClassifier\n",
    "from keras.utils import np_utils"
   ]
  },
  {
   "cell_type": "markdown",
   "id": "158334c4",
   "metadata": {},
   "source": [
    "# Getting the Training and Validation Data"
   ]
  },
  {
   "cell_type": "code",
   "execution_count": 2,
   "id": "12d075bc",
   "metadata": {},
   "outputs": [],
   "source": [
    "# Importing the data through the data_acquisition file\n",
    "xdat, ydat = da.labels_multiclass('./dataset')\n",
    "\n",
    "# Normalizing the features\n",
    "x = np.array(xdat)\n",
    "y = np.array(ydat)\n",
    "x /= 255\n",
    "\n",
    "# Converting the 3 dimensional features to one dimension\n",
    "for i in range(x.shape[0]):\n",
    "    x[i] = np.reshape(x[i], (512, 512, 1))"
   ]
  },
  {
   "cell_type": "code",
   "execution_count": 3,
   "id": "00003bb2",
   "metadata": {},
   "outputs": [],
   "source": [
    "# Splitting the dataset into training and validation set (85% training and 15% validation set)\n",
    "xtrain, xval, ytrain, yval = train_test_split(x, y, train_size=0.85, random_state=15) "
   ]
  },
  {
   "cell_type": "code",
   "execution_count": 4,
   "id": "c4b12759",
   "metadata": {},
   "outputs": [
    {
     "name": "stdout",
     "output_type": "stream",
     "text": [
      "(2550, 512, 512, 1)\n"
     ]
    }
   ],
   "source": [
    "print(xtrain.shape)"
   ]
  },
  {
   "cell_type": "markdown",
   "id": "86dee743",
   "metadata": {},
   "source": [
    "# Implementing CNN Algorithm from the Keras Library"
   ]
  },
  {
   "cell_type": "code",
   "execution_count": 5,
   "id": "b6b4fc37",
   "metadata": {},
   "outputs": [],
   "source": [
    "# Creating the CNN Model\n",
    "cnn_model = Sequential()\n",
    "cnn_model.add(Conv2D(32, kernel_size=(3,3), activation='relu', input_shape=(512,512,1)))\n",
    "cnn_model.add(MaxPooling2D(pool_size=(2,2)))\n",
    "cnn_model.add(Dropout(0.25))\n",
    "\n",
    "cnn_model.add(Conv2D(64, (3,3), activation='relu'))\n",
    "cnn_model.add(MaxPooling2D(pool_size=(2,2)))\n",
    "cnn_model.add(Dropout(0.25))\n",
    "\n",
    "cnn_model.add(Conv2D(128, (3,3), activation='relu'))\n",
    "cnn_model.add(MaxPooling2D(pool_size=(2,2)))\n",
    "cnn_model.add(Dropout(0.25))\n",
    "\n",
    "cnn_model.add(Flatten())\n",
    "cnn_model.add(Dense(64, activation='relu'))\n",
    "cnn_model.add(Dropout(0.25))\n",
    "cnn_model.add(Dense(4, activation='softmax'))\n",
    "\n",
    "# Compiling the model by specifying the loss function as categorical cross entropy  and the optimizer is set as Adam, and metrics  is accuracy\n",
    "cnn_model.compile(loss=keras.losses.categorical_crossentropy, optimizer='adam', metrics=['accuracy'])"
   ]
  },
  {
   "cell_type": "code",
   "execution_count": 6,
   "id": "625f41d2",
   "metadata": {},
   "outputs": [
    {
     "name": "stdout",
     "output_type": "stream",
     "text": [
      "Model: \"sequential_1\"\n",
      "_________________________________________________________________\n",
      "Layer (type)                 Output Shape              Param #   \n",
      "=================================================================\n",
      "conv2d_1 (Conv2D)            (None, 510, 510, 32)      320       \n",
      "_________________________________________________________________\n",
      "max_pooling2d_1 (MaxPooling2 (None, 255, 255, 32)      0         \n",
      "_________________________________________________________________\n",
      "dropout_1 (Dropout)          (None, 255, 255, 32)      0         \n",
      "_________________________________________________________________\n",
      "conv2d_2 (Conv2D)            (None, 253, 253, 64)      18496     \n",
      "_________________________________________________________________\n",
      "max_pooling2d_2 (MaxPooling2 (None, 126, 126, 64)      0         \n",
      "_________________________________________________________________\n",
      "dropout_2 (Dropout)          (None, 126, 126, 64)      0         \n",
      "_________________________________________________________________\n",
      "conv2d_3 (Conv2D)            (None, 124, 124, 128)     73856     \n",
      "_________________________________________________________________\n",
      "max_pooling2d_3 (MaxPooling2 (None, 62, 62, 128)       0         \n",
      "_________________________________________________________________\n",
      "dropout_3 (Dropout)          (None, 62, 62, 128)       0         \n",
      "_________________________________________________________________\n",
      "flatten_1 (Flatten)          (None, 492032)            0         \n",
      "_________________________________________________________________\n",
      "dense_1 (Dense)              (None, 64)                31490112  \n",
      "_________________________________________________________________\n",
      "dropout_4 (Dropout)          (None, 64)                0         \n",
      "_________________________________________________________________\n",
      "dense_2 (Dense)              (None, 4)                 260       \n",
      "=================================================================\n",
      "Total params: 31,583,044\n",
      "Trainable params: 31,583,044\n",
      "Non-trainable params: 0\n",
      "_________________________________________________________________\n"
     ]
    }
   ],
   "source": [
    "# Getting the summary of the created CNN model\n",
    "cnn_model.summary()"
   ]
  },
  {
   "cell_type": "code",
   "execution_count": 7,
   "id": "ca1b49af",
   "metadata": {},
   "outputs": [
    {
     "name": "stdout",
     "output_type": "stream",
     "text": [
      "Train on 2550 samples, validate on 450 samples\n",
      "Epoch 1/10\n",
      "2550/2550 [==============================] - 31s 12ms/step - loss: 1.3128 - accuracy: 0.4431 - val_loss: 0.8808 - val_accuracy: 0.5600 19s - loss: 1.6416 -  - ETA: 16s - loss: 1.5871 - - ETA: 13s - loss: 1.5402 - accuracy: 0 - ETA: 12s  - ETA: 6s - loss: 1.4012  - ETA: 5s - loss: 1.3823  - ETA: 3s - loss: 1.3\n",
      "Epoch 2/10\n",
      "2550/2550 [==============================] - 25s 10ms/step - loss: 0.8134 - accuracy: 0.6612 - val_loss: 0.7472 - val_accuracy: 0.6578s: 0.8708 - ac - ETA: 16s - loss: 0.8399 - accuracy: - ETA: 16s - lo - ETA: 13s - loss: 0.8651 - - ETA: 12s - loss: 0.8529 - accuracy - - ETA: 2s - loss: 0.8257 - accura - ETA: 0s - loss: 0.8146 - accuracy: 0.66\n",
      "Epoch 3/10\n",
      "2550/2550 [==============================] - 25s 10ms/step - loss: 0.6056 - accuracy: 0.7510 - val_loss: 0.5192 - val_accuracy: 0.7556: 16s - loss: 0.6317 - accuracy: 0.7 - ETA: 16s - loss: 0.6304 - accurac - ETA: 15s - loss: 0.6376 - accurac - ETA: 14s - loss: 0.6344 - ETA: 13s - loss: 0.6279 - accuracy: 0. - ETA: 12s - loss: 0. - ETA: 1 - ETA: 8s - ETA: 5s - loss: 0.618 - ETA: 4s - loss: 0.6188 - accura - ETA: 3s - loss: - ETA: 2s - loss: 0.6163 -  - ETA\n",
      "Epoch 4/10\n",
      "2550/2550 [==============================] - 25s 10ms/step - loss: 0.4714 - accuracy: 0.8004 - val_loss: 0.4713 - val_accuracy: 0.8044\n",
      "Epoch 5/10\n",
      "2550/2550 [==============================] - 24s 10ms/step - loss: 0.4049 - accuracy: 0.8314 - val_loss: 0.4414 - val_accuracy: 0.8111\n",
      "Epoch 6/10\n",
      "2550/2550 [==============================] - 24s 9ms/step - loss: 0.2947 - accuracy: 0.8820 - val_loss: 0.3649 - val_accuracy: 0.8622 0.87 - E - ETA: 0s - loss: 0.2930 - accura\n",
      "Epoch 7/10\n",
      "2550/2550 [==============================] - 24s 9ms/step - loss: 0.2522 - accuracy: 0.9027 - val_loss: 0.3858 - val_accuracy: 0.8578- loss: 0.2570 - \n",
      "Epoch 8/10\n",
      "2550/2550 [==============================] - 24s 10ms/step - loss: 0.1992 - accuracy: 0.9224 - val_loss: 0.3795 - val_accuracy: 0.8756 - ETA: 0s - loss: 0.1986 - accuracy: 0.\n",
      "Epoch 9/10\n",
      "2550/2550 [==============================] - 24s 10ms/step - loss: 0.1529 - accuracy: 0.9412 - val_loss: 0.4547 - val_accuracy: 0.8600.1628 - accuracy: 0.939 - ETA: 11s - loss: 0.1636 - accuracy: 0 - ETA: 10s - loss: 0.1648 - acc - ETA: 1s - loss: 0.1557  - ETA: 0s - loss: 0.1566 - accuracy: 0.93 - ETA: 0s - loss: 0.156\n",
      "Epoch 10/10\n",
      "2550/2550 [==============================] - 24s 10ms/step - loss: 0.1580 - accuracy: 0.9365 - val_loss: 0.5342 - val_accuracy: 0.8333oss: 0.1144 - accuracy:  - ETA: 15s - loss: 0 - E - ETA: 7s - - ETA: 6s - loss: 0.1429 - accuracy: 0.94 - ETA: 5s - loss: 0.1438 - accuracy: 0.94 - ETA: 5s - los - ETA: 4s - loss: 0.143 - ETA: 3s - ETA: 2s - loss: 0.1566 - ac - ETA: 1s - loss: 0.1576 - accu - ETA: 0s - loss: 0.158\n",
      "Training time is: 251.82558870315552 seconds\n"
     ]
    }
   ],
   "source": [
    "# Predicting the outputs using CNN while also finding the runtime\n",
    "start_time = time.time()\n",
    "final_model = cnn_model.fit(xtrain, ytrain, batch_size=10, epochs=10, validation_data=(xval, yval))\n",
    "classifier3_time = time.time() - start_time\n",
    "print(\"Training time is: %s seconds\" % (classifier3_time))"
   ]
  },
  {
   "cell_type": "code",
   "execution_count": 8,
   "id": "77aeca79",
   "metadata": {},
   "outputs": [],
   "source": [
    "# Predicting the outputs using our model\n",
    "y_pred_train1 = cnn_model.predict_classes(xtrain)\n",
    "y_pred_val1 = cnn_model.predict_classes(xval)"
   ]
  },
  {
   "cell_type": "markdown",
   "id": "0385be84",
   "metadata": {},
   "source": [
    "## Evaluating the Model Using the Validation Set"
   ]
  },
  {
   "cell_type": "code",
   "execution_count": 9,
   "id": "e0f7fb65",
   "metadata": {},
   "outputs": [
    {
     "data": {
      "text/plain": [
       "array([1, 1, 1, ..., 3, 3, 1], dtype=int64)"
      ]
     },
     "execution_count": 9,
     "metadata": {},
     "output_type": "execute_result"
    }
   ],
   "source": [
    "y_pred_train1"
   ]
  },
  {
   "cell_type": "code",
   "execution_count": 10,
   "id": "dfd8b260",
   "metadata": {},
   "outputs": [
    {
     "data": {
      "text/plain": [
       "1"
      ]
     },
     "execution_count": 10,
     "metadata": {},
     "output_type": "execute_result"
    }
   ],
   "source": [
    "rounded_ytrain = np.argmax(ytrain, axis=1)\n",
    "rounded_yval = np.argmax(yval, axis=1)\n",
    "#rounded_y_pred_train1 = np.argmax(y_pred_train1, axis=1)\n",
    "#rounded_y_pred_val1 = np.argmax(y_pred_val1, axis=1)\n",
    "rounded_ytrain[1]\n",
    "# 2"
   ]
  },
  {
   "cell_type": "code",
   "execution_count": 11,
   "id": "f39a8368",
   "metadata": {},
   "outputs": [
    {
     "name": "stdout",
     "output_type": "stream",
     "text": [
      "The accuracy of the train set: \n",
      "0.9882352941176471\n",
      "The accuracy of the validation set: \n",
      "0.8333333333333334\n",
      "The classification report: \n",
      "              precision    recall  f1-score   support\n",
      "\n",
      "    no tumor       0.89      0.70      0.79       149\n",
      "   pituitary       0.71      0.81      0.76       120\n",
      "      glioma       0.89      1.00      0.94       116\n",
      "  meningioma       0.86      0.88      0.87        65\n",
      "\n",
      "    accuracy                           0.83       450\n",
      "   macro avg       0.84      0.85      0.84       450\n",
      "weighted avg       0.84      0.83      0.83       450\n",
      "\n",
      "The confusion matrix: \n"
     ]
    },
    {
     "data": {
      "text/plain": [
       "<sklearn.metrics._plot.confusion_matrix.ConfusionMatrixDisplay at 0x1b0deabfac8>"
      ]
     },
     "execution_count": 11,
     "metadata": {},
     "output_type": "execute_result"
    },
    {
     "data": {
      "image/png": "[encoded data removed]",
      "text/plain": [
       "<Figure size 432x288 with 2 Axes>"
      ]
     },
     "metadata": {
      "needs_background": "light"
     },
     "output_type": "display_data"
    }
   ],
   "source": [
    "# Producing an accuracy score\n",
    "print('The accuracy of the train set: ')\n",
    "print(accuracy_score(rounded_ytrain, y_pred_train1))\n",
    "print('The accuracy of the validation set: ')\n",
    "print(accuracy_score(rounded_yval, y_pred_val1))\n",
    "\n",
    "# Creating a classification report\n",
    "print('The classification report: ')\n",
    "print(classification_report(rounded_yval, y_pred_val1, target_names=['no tumor', 'pituitary', 'glioma', 'meningioma']))\n",
    "\n",
    "# Creating a confusion matrix\n",
    "print('The confusion matrix: ')\n",
    "conf_mat1 = confusion_matrix(rounded_yval, y_pred_val1, labels=[0, 1, 2, 3])\n",
    "cm_disp1 = ConfusionMatrixDisplay(confusion_matrix=conf_mat1, display_labels=['no tumor', 'pituitary', 'glioma', 'meningioma'])\n",
    "cm_disp1.plot()"
   ]
  },
  {
   "cell_type": "code",
   "execution_count": 12,
   "id": "de65056e",
   "metadata": {},
   "outputs": [
    {
     "data": {
      "image/png": "[encoded data removed]",
      "text/plain": [
       "<Figure size 432x288 with 1 Axes>"
      ]
     },
     "metadata": {
      "needs_background": "light"
     },
     "output_type": "display_data"
    },
    {
     "data": {
      "image/png": "[encoded data removed]",
      "text/plain": [
       "<Figure size 432x288 with 1 Axes>"
      ]
     },
     "metadata": {
      "needs_background": "light"
     },
     "output_type": "display_data"
    }
   ],
   "source": [
    "# In order to graph the learning curve and the loss curve of the models .history atribute of the fitted model is utilized.\n",
    "# Afterwards the learning curve and the loss curve are plotted.\n",
    "plt.plot(final_model.history['accuracy'], 'o-', color=\"r\", label = 'Training error')\n",
    "plt.plot(final_model.history['val_accuracy'], 'o-', color=\"g\", label = 'Validation error')\n",
    "plt.ylabel('Accuracy', fontsize = 14)\n",
    "plt.xlabel('Number of Epoch', fontsize = 14)\n",
    "plt.ylim((0,1))\n",
    "plt.title('Learning curves for the CNN model')\n",
    "plt.legend(['Training', 'Validation'], loc='lower left')\n",
    "plt.show()\n",
    "\n",
    "plt.plot(final_model.history['loss'], 'o-', color=\"r\", label = 'Training')\n",
    "plt.plot(final_model.history['val_loss'], 'o-', color=\"g\", label = 'Validation')\n",
    "plt.ylabel('Loss', fontsize = 14)\n",
    "plt.xlabel('Number of Epoch', fontsize = 14)\n",
    "plt.legend(['Training', 'Validation'], loc='lower left')\n",
    "plt.title('Loss curves for the CNN model')\n",
    "plt.show()"
   ]
  },
  {
   "cell_type": "markdown",
   "id": "c255c322",
   "metadata": {},
   "source": [
    "# Testing the Model with the Test Data"
   ]
  },
  {
   "cell_type": "markdown",
   "id": "f0cd3cdb",
   "metadata": {},
   "source": [
    "# Getting the Testing Data"
   ]
  },
  {
   "cell_type": "code",
   "execution_count": 13,
   "id": "be20578c",
   "metadata": {},
   "outputs": [],
   "source": [
    "# Importing the data through the data_acquisition file\n",
    "x2dat, y2dat = da.labels_multiclass('./test')\n",
    "x2 = np.array(x2dat)\n",
    "y2 = np.array(y2dat)\n",
    "\n",
    "# Normalizing the features\n",
    "x2 /= 255\n",
    "\n",
    "# Converting the 3 dimensional features to one dimension\n",
    "for i in range(x2.shape[0]):\n",
    "    x2[i] = np.reshape(x2[i], (512, 512, 1))"
   ]
  },
  {
   "cell_type": "code",
   "execution_count": 14,
   "id": "ce506cdf",
   "metadata": {},
   "outputs": [],
   "source": [
    "# Predicting the output using our model\n",
    "y2_test_pred = cnn_model.predict_classes(x2)"
   ]
  },
  {
   "cell_type": "code",
   "execution_count": 15,
   "id": "9d7f8ff3",
   "metadata": {},
   "outputs": [],
   "source": [
    "# Changing from one hot encoding to integers as the accuracy report functions require it.\n",
    "rounded_y2 = np.argmax(y2, axis=1)"
   ]
  },
  {
   "cell_type": "markdown",
   "id": "298e414e",
   "metadata": {},
   "source": [
    "# Evaluating the Model Using the Test Set"
   ]
  },
  {
   "cell_type": "code",
   "execution_count": 16,
   "id": "77933185",
   "metadata": {},
   "outputs": [
    {
     "name": "stdout",
     "output_type": "stream",
     "text": [
      "The accuracy of the test set: \n",
      "0.87\n",
      "The classification report: \n",
      "              precision    recall  f1-score   support\n",
      "\n",
      "    no tumor       0.95      0.78      0.85        68\n",
      "   pituitary       0.79      0.86      0.82        43\n",
      "      glioma       0.85      1.00      0.92        52\n",
      "  meningioma       0.89      0.86      0.88        37\n",
      "\n",
      "    accuracy                           0.87       200\n",
      "   macro avg       0.87      0.88      0.87       200\n",
      "weighted avg       0.88      0.87      0.87       200\n",
      "\n",
      "The confusion matrix: \n"
     ]
    },
    {
     "data": {
      "text/plain": [
       "<sklearn.metrics._plot.confusion_matrix.ConfusionMatrixDisplay at 0x1b0df4017c8>"
      ]
     },
     "execution_count": 16,
     "metadata": {},
     "output_type": "execute_result"
    },
    {
     "data": {
      "image/png": "[encoded data removed]",
      "text/plain": [
       "<Figure size 432x288 with 2 Axes>"
      ]
     },
     "metadata": {
      "needs_background": "light"
     },
     "output_type": "display_data"
    }
   ],
   "source": [
    "# Producing an accuracy score\n",
    "print('The accuracy of the test set: ')\n",
    "print(accuracy_score(rounded_y2, y2_test_pred))\n",
    "\n",
    "# Creating a classification report\n",
    "print('The classification report: ')\n",
    "print(classification_report(rounded_y2, y2_test_pred, target_names=['no tumor', 'pituitary', 'glioma', 'meningioma']))\n",
    "\n",
    "# Creating a confusion matrix\n",
    "print('The confusion matrix: ')\n",
    "conf_mat1 = confusion_matrix(rounded_y2, y2_test_pred, labels=[0, 1, 2, 3])\n",
    "cm_disp1 = ConfusionMatrixDisplay(confusion_matrix=conf_mat1, display_labels=['no tumor', 'pituitary', 'glioma', 'meningioma'])\n",
    "cm_disp1.plot()"
   ]
  },
  {
   "cell_type": "code",
   "execution_count": null,
   "id": "64f698cd",
   "metadata": {},
   "outputs": [],
   "source": []
  }
 ],
 "metadata": {
  "kernelspec": {
   "display_name": "Python 3 (ipykernel)",
   "language": "python",
   "name": "python3"
  },
  "language_info": {
   "codemirror_mode": {
    "name": "ipython",
    "version": 3
   },
   "file_extension": ".py",
   "mimetype": "text/x-python",
   "name": "python",
   "nbconvert_exporter": "python",
   "pygments_lexer": "ipython3",
   "version": "3.7.11"
  }
 },
 "nbformat": 4,
 "nbformat_minor": 5
}
